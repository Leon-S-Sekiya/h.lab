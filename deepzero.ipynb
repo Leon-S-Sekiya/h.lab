{
  "nbformat": 4,
  "nbformat_minor": 0,
  "metadata": {
    "colab": {
      "name": "deepzero.ipynb",
      "provenance": [],
      "collapsed_sections": [],
      "mount_file_id": "19exxtvwktD-17RcPQcGeO4MFzD6O4IgO",
      "authorship_tag": "ABX9TyPLKDiINlOLXFF+7NP9+p5l",
      "include_colab_link": true
    },
    "kernelspec": {
      "name": "python3",
      "display_name": "Python 3"
    },
    "language_info": {
      "name": "python"
    }
  },
  "cells": [
    {
      "cell_type": "markdown",
      "metadata": {
        "id": "view-in-github",
        "colab_type": "text"
      },
      "source": [
        "<a href=\"https://colab.research.google.com/github/Leon-S-Sekiya/h.lab/blob/main/deepzero.ipynb\" target=\"_parent\"><img src=\"https://colab.research.google.com/assets/colab-badge.svg\" alt=\"Open In Colab\"/></a>"
      ]
    },
    {
      "cell_type": "markdown",
      "source": [
        "# 1 Pythonの基礎\n"
      ],
      "metadata": {
        "id": "WJ4Oebn0yjDi"
      }
    },
    {
      "cell_type": "markdown",
      "source": [
        "**1.1 算術計算**\n",
        "\n",
        "加算や乗算\n",
        "\n"
      ],
      "metadata": {
        "id": "yJwTOqsJy-Z2"
      }
    },
    {
      "cell_type": "code",
      "source": [
        "1 - 2"
      ],
      "metadata": {
        "colab": {
          "base_uri": "https://localhost:8080/"
        },
        "id": "b1hA6uPW6Nll",
        "outputId": "3bb962df-7ee2-45bb-adb6-9aad1a5c9c3d"
      },
      "execution_count": 1,
      "outputs": [
        {
          "output_type": "execute_result",
          "data": {
            "text/plain": [
              "-1"
            ]
          },
          "metadata": {},
          "execution_count": 1
        }
      ]
    },
    {
      "cell_type": "code",
      "source": [
        "4 * 5"
      ],
      "metadata": {
        "colab": {
          "base_uri": "https://localhost:8080/"
        },
        "id": "weA-pNt66L3s",
        "outputId": "0a90f979-a8b7-47bb-90aa-ca58c4b67691"
      },
      "execution_count": 2,
      "outputs": [
        {
          "output_type": "execute_result",
          "data": {
            "text/plain": [
              "20"
            ]
          },
          "metadata": {},
          "execution_count": 2
        }
      ]
    },
    {
      "cell_type": "code",
      "source": [
        "7 / 5"
      ],
      "metadata": {
        "colab": {
          "base_uri": "https://localhost:8080/"
        },
        "id": "GAc7coS76JL_",
        "outputId": "d38496db-e5f0-4353-b4e4-9b23ad9ab806"
      },
      "execution_count": 3,
      "outputs": [
        {
          "output_type": "execute_result",
          "data": {
            "text/plain": [
              "1.4"
            ]
          },
          "metadata": {},
          "execution_count": 3
        }
      ]
    },
    {
      "cell_type": "code",
      "source": [
        "3 ** 2"
      ],
      "metadata": {
        "colab": {
          "base_uri": "https://localhost:8080/"
        },
        "id": "DuNEXjm-551w",
        "outputId": "555d7b28-d92d-444d-ecb0-d2b428b87505"
      },
      "execution_count": 4,
      "outputs": [
        {
          "output_type": "execute_result",
          "data": {
            "text/plain": [
              "9"
            ]
          },
          "metadata": {},
          "execution_count": 4
        }
      ]
    },
    {
      "cell_type": "markdown",
      "source": [
        "*は乗算、/は除算、**は累乗。\n",
        "\n",
        "Python2系では、整数どうしの除算の結果は整数になる。\n",
        "\n",
        "一方、Python3系では、整数の除算の結果は小数(浮動小数点数)になる。"
      ],
      "metadata": {
        "id": "cCQTIEKN6cNI"
      }
    },
    {
      "cell_type": "markdown",
      "source": [
        "**1.2 データ型**"
      ],
      "metadata": {
        "id": "g6l7VxlF7NJU"
      }
    },
    {
      "cell_type": "markdown",
      "source": [
        "プログラミングには、データ型というものがある。\n",
        "\n",
        "データ型とは、データの性質を表すもので、例えば、整数、小数、文字列といった型がある。\n",
        "\n",
        "Pythonには**type()**という関数があり、この関数でデータの型を調べることができる。　"
      ],
      "metadata": {
        "id": "fE29wuqV7W7F"
      }
    },
    {
      "cell_type": "code",
      "source": [
        "type(10)"
      ],
      "metadata": {
        "colab": {
          "base_uri": "https://localhost:8080/"
        },
        "id": "9n6ng8qcBV47",
        "outputId": "4d74a45a-deca-464d-dc0b-aea50f6ae925"
      },
      "execution_count": 5,
      "outputs": [
        {
          "output_type": "execute_result",
          "data": {
            "text/plain": [
              "int"
            ]
          },
          "metadata": {},
          "execution_count": 5
        }
      ]
    },
    {
      "cell_type": "code",
      "source": [
        "type(2.718)"
      ],
      "metadata": {
        "colab": {
          "base_uri": "https://localhost:8080/"
        },
        "id": "nlaRKblJBalJ",
        "outputId": "ba111b6e-e3ac-4769-d5da-3dd042c6f0be"
      },
      "execution_count": 6,
      "outputs": [
        {
          "output_type": "execute_result",
          "data": {
            "text/plain": [
              "float"
            ]
          },
          "metadata": {},
          "execution_count": 6
        }
      ]
    },
    {
      "cell_type": "code",
      "source": [
        "type(\"hello\")"
      ],
      "metadata": {
        "colab": {
          "base_uri": "https://localhost:8080/"
        },
        "id": "cT_uzcwJBeiM",
        "outputId": "21fa281a-2cb7-4c6e-98e4-8751762a886f"
      },
      "execution_count": 7,
      "outputs": [
        {
          "output_type": "execute_result",
          "data": {
            "text/plain": [
              "str"
            ]
          },
          "metadata": {},
          "execution_count": 7
        }
      ]
    },
    {
      "cell_type": "markdown",
      "source": [
        "上の結果より、10は**int**(整数型)、2.718は**float**(浮動小数点型)、\"hello\"は**str**(文字列型)という型であることが分かる。\n",
        "\n",
        "なお、「型」と「クラス」という言葉は同じ意味で使われる場合がある。"
      ],
      "metadata": {
        "id": "mb5eGiPUBi4d"
      }
    },
    {
      "cell_type": "markdown",
      "source": [
        "**1.3 変数**"
      ],
      "metadata": {
        "id": "lc2KE4JZCPny"
      }
    },
    {
      "cell_type": "markdown",
      "source": [
        "**x**や**y**などのアルファベットを使って**変数**(variable)を定義することができる。\n",
        "\n",
        "また、変数を使って計算したり、変数に別の値を代入したりすることもできる。"
      ],
      "metadata": {
        "id": "OJY56LNpCVrN"
      }
    },
    {
      "cell_type": "code",
      "source": [
        "x = 10 # 初期化\n",
        "print(x)"
      ],
      "metadata": {
        "colab": {
          "base_uri": "https://localhost:8080/"
        },
        "id": "ESovi1HdDAaa",
        "outputId": "3e6b9494-7f1a-4b0f-9388-0a98ad2c82ff"
      },
      "execution_count": 8,
      "outputs": [
        {
          "output_type": "stream",
          "name": "stdout",
          "text": [
            "10\n"
          ]
        }
      ]
    },
    {
      "cell_type": "code",
      "source": [
        "x = 100 #代入\n",
        "print(x)"
      ],
      "metadata": {
        "colab": {
          "base_uri": "https://localhost:8080/"
        },
        "id": "6owOebd0DGdO",
        "outputId": "36fc82c6-56e6-4150-ad13-6518c4985073"
      },
      "execution_count": 9,
      "outputs": [
        {
          "output_type": "stream",
          "name": "stdout",
          "text": [
            "100\n"
          ]
        }
      ]
    },
    {
      "cell_type": "code",
      "source": [
        "y = 3.14\n",
        "x * y"
      ],
      "metadata": {
        "colab": {
          "base_uri": "https://localhost:8080/"
        },
        "id": "gdfD4uMyDPI6",
        "outputId": "62d0c0be-d944-4af5-bd21-825ad31947ed"
      },
      "execution_count": 10,
      "outputs": [
        {
          "output_type": "execute_result",
          "data": {
            "text/plain": [
              "314.0"
            ]
          },
          "metadata": {},
          "execution_count": 10
        }
      ]
    },
    {
      "cell_type": "code",
      "source": [
        "type(x * y)"
      ],
      "metadata": {
        "colab": {
          "base_uri": "https://localhost:8080/"
        },
        "id": "N__yhnvSDbL1",
        "outputId": "644af22d-7f0c-4c21-b5b2-5d5216b22a38"
      },
      "execution_count": 11,
      "outputs": [
        {
          "output_type": "execute_result",
          "data": {
            "text/plain": [
              "float"
            ]
          },
          "metadata": {},
          "execution_count": 11
        }
      ]
    },
    {
      "cell_type": "markdown",
      "source": [
        "**1.4 リスト**"
      ],
      "metadata": {
        "id": "SVD7JTa0DfVA"
      }
    },
    {
      "cell_type": "markdown",
      "source": [
        "単一の数値だけでなく、リスト(配列)としてデータをまとめることができる。"
      ],
      "metadata": {
        "id": "InGauTwuDihc"
      }
    },
    {
      "cell_type": "code",
      "source": [
        "a = [1, 2, 3, 4, 5]# リストの作成\n",
        "print(a) # リストの中身を出力する"
      ],
      "metadata": {
        "colab": {
          "base_uri": "https://localhost:8080/"
        },
        "id": "M_oWc5T9DrM2",
        "outputId": "b892fbb9-d084-4d37-e336-c56612c5ff73"
      },
      "execution_count": 12,
      "outputs": [
        {
          "output_type": "stream",
          "name": "stdout",
          "text": [
            "[1, 2, 3, 4, 5]\n"
          ]
        }
      ]
    },
    {
      "cell_type": "code",
      "source": [
        "len(a) # リストの長さを取得"
      ],
      "metadata": {
        "colab": {
          "base_uri": "https://localhost:8080/"
        },
        "id": "ZIwXc5N9D3Hd",
        "outputId": "c4f0716b-95ba-42b3-a486-faff55bb4fa9"
      },
      "execution_count": 13,
      "outputs": [
        {
          "output_type": "execute_result",
          "data": {
            "text/plain": [
              "5"
            ]
          },
          "metadata": {},
          "execution_count": 13
        }
      ]
    },
    {
      "cell_type": "code",
      "source": [
        "a[0] #最初の要素にアクセス"
      ],
      "metadata": {
        "colab": {
          "base_uri": "https://localhost:8080/"
        },
        "id": "3AbVvehMD-PQ",
        "outputId": "8909192b-2666-4856-a98d-70c932a19db0"
      },
      "execution_count": 14,
      "outputs": [
        {
          "output_type": "execute_result",
          "data": {
            "text/plain": [
              "1"
            ]
          },
          "metadata": {},
          "execution_count": 14
        }
      ]
    },
    {
      "cell_type": "code",
      "source": [
        "a[4]"
      ],
      "metadata": {
        "colab": {
          "base_uri": "https://localhost:8080/"
        },
        "id": "mIvIudisEDjH",
        "outputId": "ef8aee17-7f9b-497a-de2a-8f23287e4099"
      },
      "execution_count": 15,
      "outputs": [
        {
          "output_type": "execute_result",
          "data": {
            "text/plain": [
              "5"
            ]
          },
          "metadata": {},
          "execution_count": 15
        }
      ]
    },
    {
      "cell_type": "code",
      "source": [
        "a[4] = 99 # 値を代入\n",
        "print(a)"
      ],
      "metadata": {
        "colab": {
          "base_uri": "https://localhost:8080/"
        },
        "id": "SFCQRZTBEH_H",
        "outputId": "dd9c8b04-281d-461c-8e60-3c483d795907"
      },
      "execution_count": 16,
      "outputs": [
        {
          "output_type": "stream",
          "name": "stdout",
          "text": [
            "[1, 2, 3, 4, 99]\n"
          ]
        }
      ]
    },
    {
      "cell_type": "markdown",
      "source": [
        "要素へのアクセスはa[0]のように行う。\n",
        "\n",
        "この[]の中にある数を、インデックス(添字)と呼び、インデックスは0からスタートする(インデックスの0が最初の要素に対応する)。\n",
        "\n",
        "また、Pythonのリストには**スライシング**(slicing)という便利な記法が用意されている。\n",
        "\n",
        "スライシングを用いれば、単一の値へのアクセスだけでなく、リストのサブリスト(部分リスト)にアクセスすることができる。"
      ],
      "metadata": {
        "id": "AoyU5EYdHFI0"
      }
    },
    {
      "cell_type": "code",
      "source": [
        "print(a)"
      ],
      "metadata": {
        "colab": {
          "base_uri": "https://localhost:8080/"
        },
        "id": "2RzjrKMyIFHr",
        "outputId": "a51141fa-97b9-47fd-e806-31b199255859"
      },
      "execution_count": 17,
      "outputs": [
        {
          "output_type": "stream",
          "name": "stdout",
          "text": [
            "[1, 2, 3, 4, 99]\n"
          ]
        }
      ]
    },
    {
      "cell_type": "code",
      "source": [
        "a[0:2] # インデックスの0番目から2番目(2番目は含まない！)まで取得"
      ],
      "metadata": {
        "colab": {
          "base_uri": "https://localhost:8080/"
        },
        "id": "f4lpdYB6IJRE",
        "outputId": "237ceb15-6c33-4c89-c332-fb8be59f8911"
      },
      "execution_count": 18,
      "outputs": [
        {
          "output_type": "execute_result",
          "data": {
            "text/plain": [
              "[1, 2]"
            ]
          },
          "metadata": {},
          "execution_count": 18
        }
      ]
    },
    {
      "cell_type": "code",
      "source": [
        "a[1:] # インデックスの1番目から最後まで取得"
      ],
      "metadata": {
        "colab": {
          "base_uri": "https://localhost:8080/"
        },
        "id": "Lo474I1dIxq6",
        "outputId": "438d0d0a-7750-4fa7-e38c-5ceacfee565f"
      },
      "execution_count": 19,
      "outputs": [
        {
          "output_type": "execute_result",
          "data": {
            "text/plain": [
              "[2, 3, 4, 99]"
            ]
          },
          "metadata": {},
          "execution_count": 19
        }
      ]
    },
    {
      "cell_type": "code",
      "source": [
        "a[:3] # 最初からインデックスの3番目(3番目は含まない！)まで取得"
      ],
      "metadata": {
        "colab": {
          "base_uri": "https://localhost:8080/"
        },
        "id": "XUFbT8ISI8zK",
        "outputId": "bbb9f787-a3c7-4e54-a161-86eba0d5b33f"
      },
      "execution_count": 20,
      "outputs": [
        {
          "output_type": "execute_result",
          "data": {
            "text/plain": [
              "[1, 2, 3]"
            ]
          },
          "metadata": {},
          "execution_count": 20
        }
      ]
    },
    {
      "cell_type": "code",
      "source": [
        "a[:-1] # 最初から最後の要素の1つ前まで取得"
      ],
      "metadata": {
        "colab": {
          "base_uri": "https://localhost:8080/"
        },
        "id": "1bG9lnvmJJtw",
        "outputId": "6ecc0e33-df3a-4ce8-90d9-a6b752884f8c"
      },
      "execution_count": 21,
      "outputs": [
        {
          "output_type": "execute_result",
          "data": {
            "text/plain": [
              "[1, 2, 3, 4]"
            ]
          },
          "metadata": {},
          "execution_count": 21
        }
      ]
    },
    {
      "cell_type": "code",
      "source": [
        "a[:-2] # 最初から最後の要素の2つ前、まで取得"
      ],
      "metadata": {
        "colab": {
          "base_uri": "https://localhost:8080/"
        },
        "id": "jnmknRVVJR0c",
        "outputId": "ba65c48c-848e-4750-c092-8b1011b882b4"
      },
      "execution_count": 22,
      "outputs": [
        {
          "output_type": "execute_result",
          "data": {
            "text/plain": [
              "[1, 2, 3]"
            ]
          },
          "metadata": {},
          "execution_count": 22
        }
      ]
    },
    {
      "cell_type": "markdown",
      "source": [
        "リストのスライシングを行うには、a[0:2]のように書く。\n",
        "\n",
        "a[0:2]により、インデックスの0番目から2番目のひとつ手前の要素までが取り出される。\n",
        "\n",
        "なお、インデックス番号で-1は最後の要素、-2は最後からひとつ前の要素に対応。"
      ],
      "metadata": {
        "id": "D5--TITyJzn2"
      }
    },
    {
      "cell_type": "markdown",
      "source": [
        "**1.5 ディクショナリ**"
      ],
      "metadata": {
        "id": "RxlfbKAAKcLH"
      }
    },
    {
      "cell_type": "markdown",
      "source": [
        "リストは0から始まるインデックス番号で、0、1、2...という順に値が格納される。\n",
        "\n",
        "ディクショナリは、キーと値をペアとしてデータを確認する。\n",
        "\n",
        "ディクショナリは、『広辞苑』のように、単語と意味が対応付けられて格納される。"
      ],
      "metadata": {
        "id": "kd7oLNwQKgGy"
      }
    },
    {
      "cell_type": "code",
      "source": [
        "me = {'height':170} # ディクショナリを作成\n",
        "me['height'] # 要素にアクセス"
      ],
      "metadata": {
        "colab": {
          "base_uri": "https://localhost:8080/"
        },
        "id": "gJYAA0NpqMew",
        "outputId": "66b49b9e-6151-4293-e203-989b922f4222"
      },
      "execution_count": 23,
      "outputs": [
        {
          "output_type": "execute_result",
          "data": {
            "text/plain": [
              "170"
            ]
          },
          "metadata": {},
          "execution_count": 23
        }
      ]
    },
    {
      "cell_type": "code",
      "source": [
        "me['weight'] = 60 #新しい要素を追加\n",
        "print(me)"
      ],
      "metadata": {
        "colab": {
          "base_uri": "https://localhost:8080/"
        },
        "id": "zo6vutRZqaCW",
        "outputId": "48e3da1f-1148-42f5-c43c-b899bb34230c"
      },
      "execution_count": 24,
      "outputs": [
        {
          "output_type": "stream",
          "name": "stdout",
          "text": [
            "{'height': 170, 'weight': 60}\n"
          ]
        }
      ]
    },
    {
      "cell_type": "markdown",
      "source": [
        "**1.6 ブーリアン**"
      ],
      "metadata": {
        "id": "pHjAS5SMqwgT"
      }
    },
    {
      "cell_type": "markdown",
      "source": [
        "Pythonには、**bool**という型がある。\n",
        "\n",
        "これは、**True**と**False**という2つの値のどちらかを取る。\n",
        "\n",
        "また、**bool**型に対する演算子として、**and**や**or**、**not**がある。\n",
        "\n",
        "(数値に対する演算子は、+、-、*、/などがあるように、型に応じて使用できる演算子が決まる。)"
      ],
      "metadata": {
        "id": "FD1IPp34qzV5"
      }
    },
    {
      "cell_type": "code",
      "source": [
        "hungry = True   # お腹すいてる？\n",
        "sleepy = False  # 眠い？\n",
        "type(hungry)"
      ],
      "metadata": {
        "colab": {
          "base_uri": "https://localhost:8080/"
        },
        "id": "y752dlAbrgcf",
        "outputId": "6ff99c4c-e597-4ddb-d7a2-0cd2f87eb1a6"
      },
      "execution_count": 25,
      "outputs": [
        {
          "output_type": "execute_result",
          "data": {
            "text/plain": [
              "bool"
            ]
          },
          "metadata": {},
          "execution_count": 25
        }
      ]
    },
    {
      "cell_type": "code",
      "source": [
        "not hungry"
      ],
      "metadata": {
        "colab": {
          "base_uri": "https://localhost:8080/"
        },
        "id": "s7P97BBMsFkU",
        "outputId": "55939fbf-b01c-46bc-edf5-b1c7e73b4bfe"
      },
      "execution_count": 26,
      "outputs": [
        {
          "output_type": "execute_result",
          "data": {
            "text/plain": [
              "False"
            ]
          },
          "metadata": {},
          "execution_count": 26
        }
      ]
    },
    {
      "cell_type": "code",
      "source": [
        "hungry and sleepy   #空腹　かつ　眠い"
      ],
      "metadata": {
        "colab": {
          "base_uri": "https://localhost:8080/"
        },
        "id": "5ICuAqKhsJzT",
        "outputId": "a6e23179-b6a6-4012-fd72-686a69ef8b98"
      },
      "execution_count": 27,
      "outputs": [
        {
          "output_type": "execute_result",
          "data": {
            "text/plain": [
              "False"
            ]
          },
          "metadata": {},
          "execution_count": 27
        }
      ]
    },
    {
      "cell_type": "code",
      "source": [
        "hungry or sleepy    #空腹　または　眠い"
      ],
      "metadata": {
        "colab": {
          "base_uri": "https://localhost:8080/"
        },
        "id": "46YmViPAsN8E",
        "outputId": "5e63c92a-4b5e-460d-c973-4e39808cd9ef"
      },
      "execution_count": 28,
      "outputs": [
        {
          "output_type": "execute_result",
          "data": {
            "text/plain": [
              "True"
            ]
          },
          "metadata": {},
          "execution_count": 28
        }
      ]
    },
    {
      "cell_type": "markdown",
      "source": [
        "**1.7 if文**"
      ],
      "metadata": {
        "id": "y2XG-ksVraHw"
      }
    },
    {
      "cell_type": "markdown",
      "source": [
        "条件に応じて、処理を分岐するには**if/else**を用いる。"
      ],
      "metadata": {
        "id": "XT0MkTp7rowV"
      }
    },
    {
      "cell_type": "code",
      "source": [
        "hungry = True\n",
        "if hungry:\n",
        "    print(\"I'm hungry\")\n",
        "    "
      ],
      "metadata": {
        "colab": {
          "base_uri": "https://localhost:8080/"
        },
        "id": "QD2WNxRgr1vY",
        "outputId": "0d1ef24a-17fd-4500-ae75-55c3076678af"
      },
      "execution_count": 29,
      "outputs": [
        {
          "output_type": "stream",
          "name": "stdout",
          "text": [
            "I'm hungry\n"
          ]
        }
      ]
    },
    {
      "cell_type": "code",
      "source": [
        "hungry = False\n",
        "if hungry:\n",
        "    print(\"I'm hungry\")\n",
        "else:\n",
        "    print(\"I'm not hungry\")\n",
        "    print(\"I'm sleepy\")"
      ],
      "metadata": {
        "colab": {
          "base_uri": "https://localhost:8080/"
        },
        "id": "1pgqWxvKsQBk",
        "outputId": "55390498-03f9-498a-c543-cdf5cd14a80c"
      },
      "execution_count": 30,
      "outputs": [
        {
          "output_type": "stream",
          "name": "stdout",
          "text": [
            "I'm not hungry\n",
            "I'm sleepy\n"
          ]
        }
      ]
    },
    {
      "cell_type": "markdown",
      "source": [
        "Pythonでは、空白が大きな意味を持つ。\n",
        "\n",
        "今回のif文においても、if hungry:の次の文は、頭に4つの空白文字がある。\n",
        "\n",
        "これはインデントを表し、先の条件(if hungry)が満たされた際に実行されるコードを表す。"
      ],
      "metadata": {
        "id": "16dtwt39tAes"
      }
    },
    {
      "cell_type": "markdown",
      "source": [
        "**1.8 for文**"
      ],
      "metadata": {
        "id": "P7XZSC3Htp6z"
      }
    },
    {
      "cell_type": "markdown",
      "source": [
        "ループ処理を行うには、**for**文を用いる。"
      ],
      "metadata": {
        "id": "PHIQzJoots5I"
      }
    },
    {
      "cell_type": "code",
      "source": [
        "for i in [1, 2, 3]:\n",
        "    print(i)"
      ],
      "metadata": {
        "colab": {
          "base_uri": "https://localhost:8080/"
        },
        "id": "JQE4z7lPtpeB",
        "outputId": "19ea6a97-b98f-4514-b83b-5aec128c0429"
      },
      "execution_count": 31,
      "outputs": [
        {
          "output_type": "stream",
          "name": "stdout",
          "text": [
            "1\n",
            "2\n",
            "3\n"
          ]
        }
      ]
    },
    {
      "cell_type": "markdown",
      "source": [
        "ここでは、[1, 2, 3]というリストの中の要素を出力する例を示している。\n",
        "\n",
        "**for...in...**という構文を用いると、リストなどのデータ集合の各要素に順にアクセスすることができる。"
      ],
      "metadata": {
        "id": "ePfJinept7nV"
      }
    },
    {
      "cell_type": "markdown",
      "source": [
        "**1.9 関数**"
      ],
      "metadata": {
        "id": "rvY5LhQNuf5w"
      }
    },
    {
      "cell_type": "markdown",
      "source": [
        "まとまりのある処理を**関数**(function)として定義することができる。"
      ],
      "metadata": {
        "id": "RLa5iRX3ujpS"
      }
    },
    {
      "cell_type": "code",
      "source": [
        "def hello():\n",
        "    print(\"Hello World!\")\n",
        "\n",
        "hello()"
      ],
      "metadata": {
        "colab": {
          "base_uri": "https://localhost:8080/"
        },
        "id": "CuSiL0jxusck",
        "outputId": "42b4cf4c-b521-46e5-d0a3-e21e1c767a61"
      },
      "execution_count": 32,
      "outputs": [
        {
          "output_type": "stream",
          "name": "stdout",
          "text": [
            "Hello World!\n"
          ]
        }
      ]
    },
    {
      "cell_type": "markdown",
      "source": [
        "また、関数は引数をとることができる。"
      ],
      "metadata": {
        "id": "zkybwENHu6Vk"
      }
    },
    {
      "cell_type": "code",
      "source": [
        "def hello(object):\n",
        "    print(\"Hello \" +  object + \"!\")\n",
        "\n",
        "hello(\"cat\")"
      ],
      "metadata": {
        "colab": {
          "base_uri": "https://localhost:8080/"
        },
        "id": "wlHEG812u_RT",
        "outputId": "0ce1fc7f-a245-42fe-954e-251dcca5afb4"
      },
      "execution_count": 33,
      "outputs": [
        {
          "output_type": "stream",
          "name": "stdout",
          "text": [
            "Hello cat!\n"
          ]
        }
      ]
    },
    {
      "cell_type": "markdown",
      "source": [
        "なお、文字列の連結は+で行う。"
      ],
      "metadata": {
        "id": "I4BLkpXxvTAS"
      }
    },
    {
      "cell_type": "markdown",
      "source": [
        "# 2 Pythonスクリプトファイル"
      ],
      "metadata": {
        "id": "7Ja2pcsy31xP"
      }
    },
    {
      "cell_type": "markdown",
      "source": [
        "これまでは、Pythonインタプリタによる例を見てきた。\n",
        "\n",
        "Pythonインタプリタは、対話的にPythonを実行できるモードで、簡単な実験を行うにはとても便利である。\n",
        "\n",
        "しかし、まとまった処理を行おうとすると、毎回プログラムを入力しなければならないため、面倒。\n",
        "\n",
        "その場合、Pythonプログラムをファイルとして保存し、そのファイルを(まとめて)実行する。\n",
        "\n",
        "ここでは、そのようなPythonスクリプトファイルによる例をみていく。"
      ],
      "metadata": {
        "id": "QyMd7liRvinP"
      }
    },
    {
      "cell_type": "markdown",
      "source": [
        "**2.1 ファイルに保存**"
      ],
      "metadata": {
        "id": "apc2dBFtwlRS"
      }
    },
    {
      "cell_type": "markdown",
      "source": [
        "ここからはGoogle colabの場合とデスクトップアプリ(VScodeやPycharm)の場合とで仕様が違うと思うが、colabの場合を考えておく。"
      ],
      "metadata": {
        "id": "ZcrL8OHNwo4Z"
      }
    },
    {
      "cell_type": "markdown",
      "source": [
        "テキストエディタを開き、hungry.pyというファイルを作成する。"
      ],
      "metadata": {
        "id": "mt0nbC5txTei"
      }
    },
    {
      "cell_type": "code",
      "source": [
        "print(\"I'm hungry!\")"
      ],
      "metadata": {
        "colab": {
          "base_uri": "https://localhost:8080/"
        },
        "id": "43pl_g1Cy-Dq",
        "outputId": "e237c706-07d5-47ac-f6c8-e5f807387139"
      },
      "execution_count": 34,
      "outputs": [
        {
          "output_type": "stream",
          "name": "stdout",
          "text": [
            "I'm hungry!\n"
          ]
        }
      ]
    },
    {
      "cell_type": "markdown",
      "source": [
        "続いて、ターミナルを開き、先のhungry.pyが保存された場所に移動する。そして、hungry.pyというファイル名を引数として、pythonコマンドを実行する。\n",
        "\n",
        "どのディレクトリにあるかは、皆さんのPC次第ですが、たいていは\n",
        "\n",
        "C:\\Users\\ユーザー名\\PythoinProjects\\ファイル名\n",
        "\n",
        "とかだと思います。\n",
        "\n",
        "Google colabの人は、"
      ],
      "metadata": {
        "id": "xw0pJn942sLq"
      }
    },
    {
      "cell_type": "markdown",
      "source": [
        "\n",
        "\n",
        "1.   Google Drive上で、Colaboratoryのファイルを作成して、Colaboratoryを起動。\n",
        "2.  ノートブックで以下のコードを入力して実行。\n",
        "\n"
      ],
      "metadata": {
        "id": "J7Id5OpE3oKO"
      }
    },
    {
      "cell_type": "code",
      "source": [
        "from google.colab import drive\n",
        "drive.mount('/content/drive')"
      ],
      "metadata": {
        "colab": {
          "base_uri": "https://localhost:8080/"
        },
        "id": "2bgn9WEt0TSj",
        "outputId": "eda893d8-0497-4b0a-f2b9-78739c6276f8"
      },
      "execution_count": 35,
      "outputs": [
        {
          "output_type": "stream",
          "name": "stdout",
          "text": [
            "Drive already mounted at /content/drive; to attempt to forcibly remount, call drive.mount(\"/content/drive\", force_remount=True).\n"
          ]
        }
      ]
    },
    {
      "cell_type": "markdown",
      "source": [
        "3. 以下のコードを入力して、作業ディレクトリに移動。\n",
        "\n",
        "マイドライブの下に「Colaboratory」というフォルダを作っている前提とします。"
      ],
      "metadata": {
        "id": "TlRUnjkU4F8Y"
      }
    },
    {
      "cell_type": "code",
      "source": [
        "import os\n",
        "os.chdir('/content/drive/My Drive/Colaboratory/')"
      ],
      "metadata": {
        "id": "j_d5vxgS6sHA"
      },
      "execution_count": 36,
      "outputs": []
    },
    {
      "cell_type": "markdown",
      "source": [
        "確認として、以下を実行。\n",
        "\n",
        "「Colaboratory」の下においているファイル一覧が表示されれば、OK。"
      ],
      "metadata": {
        "id": "u34OTkGp6viK"
      }
    },
    {
      "cell_type": "code",
      "source": [
        "!ls- la\n",
        "#「!」を先頭につけることで、Linuxのコマンドが使用できます。"
      ],
      "metadata": {
        "colab": {
          "base_uri": "https://localhost:8080/"
        },
        "id": "i3qt0TA360bI",
        "outputId": "749b2bc3-eeff-42ef-8a3c-b66deb82e72f"
      },
      "execution_count": 37,
      "outputs": [
        {
          "output_type": "stream",
          "name": "stdout",
          "text": [
            "/bin/bash: ls-: command not found\n"
          ]
        }
      ]
    },
    {
      "cell_type": "code",
      "source": [
        "import hungry"
      ],
      "metadata": {
        "colab": {
          "base_uri": "https://localhost:8080/"
        },
        "id": "nsqTMgwD7mu1",
        "outputId": "98ebae37-e09f-4472-948f-f5bed3f9a4ab"
      },
      "execution_count": 38,
      "outputs": [
        {
          "output_type": "stream",
          "name": "stdout",
          "text": [
            "I'm hungry!\n"
          ]
        }
      ]
    },
    {
      "cell_type": "markdown",
      "source": [
        "ここで注意点。\n",
        "\n",
        "ランタイムから、ランタイムの更新をしないと、どうやらimprotできないようだ。\n",
        "\n",
        "ランタイムを再起動せよ。"
      ],
      "metadata": {
        "id": "8nFNccmC76s4"
      }
    },
    {
      "cell_type": "markdown",
      "source": [
        "**2.2 クラス**"
      ],
      "metadata": {
        "id": "XkCqCuHfTKPz"
      }
    },
    {
      "cell_type": "markdown",
      "source": [
        "これまで、**int**や**str**などのデータ型を見てきた。\n",
        "\n",
        "それらのデータ型は、「組み込み」のデータ型といって、初めからPythonに組み込まれたデータ型である。\n",
        "\n",
        "ここでは、新しいクラスを定義する。\n",
        "\n",
        "ユーザーが自分でクラスを定義すれば、独自にデータ型を作成することができる。\n",
        "\n",
        "また、オリジナルのメソッド(クラス用の関数)や属性を定義することも可能である。\n",
        "\n",
        "Pythonでは、**class**というキーワードを使って、クラスを定義する。\n",
        "\n",
        "クラスは、次のようなフォーマット(ひな形)に従う。"
      ],
      "metadata": {
        "id": "VjxqFH_fTND0"
      }
    },
    {
      "cell_type": "code",
      "source": [
        "# def __init__(self, 引数, ...): # コンストラクタ\n",
        "# def メソッド名1(self, 引数, ...): # メソッド1\n",
        "# def メソッド名2(self, 引数, ...): # メソッド2"
      ],
      "metadata": {
        "id": "vXGiPIdPUHTS"
      },
      "execution_count": 39,
      "outputs": []
    },
    {
      "cell_type": "markdown",
      "source": [
        "ここで、**__init__**という特別なメソッドがあるが、これは初期化を行うメソッドである。\n",
        "\n",
        "この初期化用メソッドは**コンストラクタ**(constructor)とも呼ばれ、クラスのインスタンスが作成される際に一度だけ呼ばれる。\n",
        "\n",
        "また、Pythonでは、メソッドの第一引数に自分自身(自身のインスタンス)を表す**self**を明示的に書くのが特徴である。\n",
        "\n",
        "(他言語をかじっている人は、**self**を書く記法は気持ち悪いかもしれませんが、これは慣れである。)"
      ],
      "metadata": {
        "id": "PIr8lipGUjYA"
      }
    },
    {
      "cell_type": "markdown",
      "source": [
        "それでは、簡単な例としてクラスをひとつ作成してみよう。\n",
        "\n",
        "ここでは、次のプログラムを**man.py**として保存する。"
      ],
      "metadata": {
        "id": "Uu5YaKsSVW8z"
      }
    },
    {
      "cell_type": "code",
      "source": [
        "#man.pyの中身\n",
        "#class Man:\n",
        "#    def __init__(self, name):\n",
        "#        self.name = name\n",
        "#        print(\"Initialized!\")\n",
        "#\n",
        "#    def hello(self):\n",
        "#        print(\"Hello \" + self.name + \"!\")\n",
        "#\n",
        "#    def goodbye(self):\n",
        "#        print(\"Good-bye \" + self.name + \"!\")\n",
        "#\n",
        "#m = Man(\"David\")\n",
        "#m.hello()\n",
        "#m.goodbye()\n",
        "#"
      ],
      "metadata": {
        "id": "o8c3pW0lXqE8"
      },
      "execution_count": 40,
      "outputs": []
    },
    {
      "cell_type": "code",
      "source": [
        "import man"
      ],
      "metadata": {
        "colab": {
          "base_uri": "https://localhost:8080/"
        },
        "id": "2MOu5zUlXgo5",
        "outputId": "c6c650f5-3c29-4bbb-82f7-91c5678d8415"
      },
      "execution_count": 41,
      "outputs": [
        {
          "output_type": "stream",
          "name": "stdout",
          "text": [
            "Initialized!\n",
            "Hello David!\n",
            "Good-bye David!\n"
          ]
        }
      ]
    },
    {
      "cell_type": "markdown",
      "source": [
        "ここで**Man**という新しいクラスを定義している。\n",
        "\n",
        "上の例では、この**Man**というクラスから、**m**というインスタンス(オブジェクト)を生成する。"
      ],
      "metadata": {
        "id": "urCcbibBXNSz"
      }
    },
    {
      "cell_type": "markdown",
      "source": [
        "**Man**クラスのコンストラクタ(初期メソッド)は、**name**という引数を取り、その引数でインスタンス変数である**self.name**を初期化する。\n",
        "\n",
        "**インスタンス変数**とは、個々のインスタンスに格納される変数のことである。\n",
        "\n",
        "Pythonでは、**self.name**のように、**self**のあとに属性名を書くことでインスタンス変数の作成およびアクセスができる。"
      ],
      "metadata": {
        "id": "bNY9QuRUZaIu"
      }
    },
    {
      "cell_type": "markdown",
      "source": [
        "# 3 NumPy"
      ],
      "metadata": {
        "id": "REyXiYYPyqj5"
      }
    },
    {
      "cell_type": "markdown",
      "source": [
        "ディープラーニングの実装では、配列や行列の計算が多く登場する。\n",
        "\n",
        "NumPyの配列クラス(**numpy.array**)には便利なメソッドが多く用意されており、ディープラーニングの実装においても、それらのメソッドを利用する。\n",
        "\n",
        "ここでは、これから先使用していくNumPyについて簡単な説明をしていく。"
      ],
      "metadata": {
        "id": "H0GpsX8_afBz"
      }
    },
    {
      "cell_type": "markdown",
      "source": [
        "**3.1 NumPyのインポート**"
      ],
      "metadata": {
        "id": "wVvihEEvbFlt"
      }
    },
    {
      "cell_type": "markdown",
      "source": [
        "NumPyは外部ライブラリである。\n",
        "\n",
        "ここで言う「外部」とは、標準のPythonには含まれない、ということである。\n",
        "\n",
        "そのため、まず初めにNumPyライブラリを読み込む(インポートする)作業を行う。"
      ],
      "metadata": {
        "id": "6m-rCQfJbMmy"
      }
    },
    {
      "cell_type": "code",
      "source": [
        "import numpy as np"
      ],
      "metadata": {
        "id": "LJFWOw-vbh1J"
      },
      "execution_count": 42,
      "outputs": []
    },
    {
      "cell_type": "markdown",
      "source": [
        "Pythonでは、ライブラリを読み込むために**import**という分を用いる。\n",
        "\n",
        "ここでは、**import numpy as np**と書いているが、これは直訳すると、「numpyをnpとして読み込む」ということになる。\n",
        "\n",
        "そのように書くことで、これ以降NumPyに関するメソッドはnpとして参照できる。"
      ],
      "metadata": {
        "id": "EnBSMndIbk_l"
      }
    },
    {
      "cell_type": "markdown",
      "source": [
        "**3.2 NumPy配列の生成**"
      ],
      "metadata": {
        "id": "junw_np4cFRA"
      }
    },
    {
      "cell_type": "markdown",
      "source": [
        "NumPyの配列を作成するために、**np.array()**というメソッドを用いる。\n",
        "\n",
        "**np.array()**は、Pythonのリストを引数に取り、NumPy用の配列(**numpy.ndarray**)を作成する。"
      ],
      "metadata": {
        "id": "7RsnQJnscJTs"
      }
    },
    {
      "cell_type": "code",
      "source": [
        "x = np.array([1.0, 2.0, 3.0])\n",
        "print(x)"
      ],
      "metadata": {
        "colab": {
          "base_uri": "https://localhost:8080/"
        },
        "id": "230qNSAncjPJ",
        "outputId": "b24886d5-b897-49e7-9570-3c287908b6ee"
      },
      "execution_count": 43,
      "outputs": [
        {
          "output_type": "stream",
          "name": "stdout",
          "text": [
            "[1. 2. 3.]\n"
          ]
        }
      ]
    },
    {
      "cell_type": "code",
      "source": [
        "type(x)"
      ],
      "metadata": {
        "colab": {
          "base_uri": "https://localhost:8080/"
        },
        "id": "XimJjcBgdqN_",
        "outputId": "a5105e36-e8a7-452d-ec13-a877acb45faa"
      },
      "execution_count": 44,
      "outputs": [
        {
          "output_type": "execute_result",
          "data": {
            "text/plain": [
              "numpy.ndarray"
            ]
          },
          "metadata": {},
          "execution_count": 44
        }
      ]
    },
    {
      "cell_type": "markdown",
      "source": [
        "**3.3 NumPyの算術計算**"
      ],
      "metadata": {
        "id": "Mzfyt8PLmSF4"
      }
    },
    {
      "cell_type": "markdown",
      "source": [
        "NumPy配列の算術計算の例を示す。"
      ],
      "metadata": {
        "id": "yYaTD9V5mWRa"
      }
    },
    {
      "cell_type": "code",
      "source": [
        "x = np.array([1.0, 2.0, 3.0])\n",
        "y = np.array([2.0, 4.0, 6.0])\n",
        "x + y # 要素ごとの足し算"
      ],
      "metadata": {
        "colab": {
          "base_uri": "https://localhost:8080/"
        },
        "id": "aSesPKnnm9J4",
        "outputId": "36167351-4086-4c7c-c12e-c4564c695361"
      },
      "execution_count": 45,
      "outputs": [
        {
          "output_type": "execute_result",
          "data": {
            "text/plain": [
              "array([3., 6., 9.])"
            ]
          },
          "metadata": {},
          "execution_count": 45
        }
      ]
    },
    {
      "cell_type": "code",
      "source": [
        "x - y # 要素ごとの引き算"
      ],
      "metadata": {
        "colab": {
          "base_uri": "https://localhost:8080/"
        },
        "id": "AbFD9jpdnOcM",
        "outputId": "b4095024-c7db-4b5b-930f-6d0b79b363aa"
      },
      "execution_count": 46,
      "outputs": [
        {
          "output_type": "execute_result",
          "data": {
            "text/plain": [
              "array([-1., -2., -3.])"
            ]
          },
          "metadata": {},
          "execution_count": 46
        }
      ]
    },
    {
      "cell_type": "code",
      "source": [
        "x * y # 要素ごとの掛け算"
      ],
      "metadata": {
        "colab": {
          "base_uri": "https://localhost:8080/"
        },
        "id": "Ds1W6wpInWaj",
        "outputId": "56521867-8066-48e9-cf01-e2bc9ab341e2"
      },
      "execution_count": 47,
      "outputs": [
        {
          "output_type": "execute_result",
          "data": {
            "text/plain": [
              "array([ 2.,  8., 18.])"
            ]
          },
          "metadata": {},
          "execution_count": 47
        }
      ]
    },
    {
      "cell_type": "code",
      "source": [
        "x / y # 要素ごとの割り算"
      ],
      "metadata": {
        "colab": {
          "base_uri": "https://localhost:8080/"
        },
        "id": "tOIDOKbqna_b",
        "outputId": "e6a24dec-09e7-4ad6-9a4d-1c2838af3aa3"
      },
      "execution_count": 48,
      "outputs": [
        {
          "output_type": "execute_result",
          "data": {
            "text/plain": [
              "array([0.5, 0.5, 0.5])"
            ]
          },
          "metadata": {},
          "execution_count": 48
        }
      ]
    },
    {
      "cell_type": "markdown",
      "source": [
        "ここでの注意点は、配列の**x**と**y**の要素数が同じであるという点である(両者とも要素数が3の1次元配列)。\n",
        "\n",
        "**x**と**y**の要素数が同じ場合、算術計算は各要素に対して行われる。\n",
        "\n",
        "要素数が違う場合はエラーになるので、要素数を合わせることは大切である。\n",
        "\n",
        "ちなみに、「要素ごと」という言葉は、英語では「element-wise」と言う。\n",
        "\n",
        "例えば、「要素ごとの積」なら「element-wise product」となる。\n",
        "\n"
      ],
      "metadata": {
        "id": "YexSNN_pp7PA"
      }
    },
    {
      "cell_type": "markdown",
      "source": [
        "NumPy配列はelement-wiseな計算だけではなく、NumPy配列と単一の数値(スカラ値)の組み合わせで算術計算を行うこともできる。\n",
        "\n",
        "その場合、NumPy配列の各要素とスカラ値の間で計算が行われる。\n",
        "\n",
        "この機能は**ブロードキャスト**という。"
      ],
      "metadata": {
        "id": "fHJgnSjfq-Cv"
      }
    },
    {
      "cell_type": "code",
      "source": [
        "x = np.array([1.0, 2.0, 3.0])\n",
        "x / 2.0"
      ],
      "metadata": {
        "colab": {
          "base_uri": "https://localhost:8080/"
        },
        "id": "RY8Q-08jt6jV",
        "outputId": "bc786f02-aa79-4e91-c74a-3fe92283ba45"
      },
      "execution_count": 49,
      "outputs": [
        {
          "output_type": "execute_result",
          "data": {
            "text/plain": [
              "array([0.5, 1. , 1.5])"
            ]
          },
          "metadata": {},
          "execution_count": 49
        }
      ]
    },
    {
      "cell_type": "markdown",
      "source": [
        "**3.4 NumPyのN次元配列**"
      ],
      "metadata": {
        "id": "sIhGCV2MuCTl"
      }
    },
    {
      "cell_type": "markdown",
      "source": [
        "NumPyは、1次元の配列(1列に並んだ配列)だけでなく、多次元の配列も作成できる。\n",
        "\n",
        "例えば、2次元配列(行列)は次のように作成できる。"
      ],
      "metadata": {
        "id": "sa58wMHouHGS"
      }
    },
    {
      "cell_type": "code",
      "source": [
        "A = np.array([[1, 2], [3, 4]])\n",
        "print(A)"
      ],
      "metadata": {
        "colab": {
          "base_uri": "https://localhost:8080/"
        },
        "id": "FAAGyT-qreJE",
        "outputId": "4a81d74b-00b5-4a2b-f120-e984df01202c"
      },
      "execution_count": 50,
      "outputs": [
        {
          "output_type": "stream",
          "name": "stdout",
          "text": [
            "[[1 2]\n",
            " [3 4]]\n"
          ]
        }
      ]
    },
    {
      "cell_type": "code",
      "source": [
        "A.shape"
      ],
      "metadata": {
        "colab": {
          "base_uri": "https://localhost:8080/"
        },
        "id": "4pJX4qHvrvju",
        "outputId": "21dd898a-1ace-462f-e3e0-78d4523c29e6"
      },
      "execution_count": 51,
      "outputs": [
        {
          "output_type": "execute_result",
          "data": {
            "text/plain": [
              "(2, 2)"
            ]
          },
          "metadata": {},
          "execution_count": 51
        }
      ]
    },
    {
      "cell_type": "code",
      "source": [
        "A.dtype"
      ],
      "metadata": {
        "colab": {
          "base_uri": "https://localhost:8080/"
        },
        "id": "PBSd3Y6Gr0X-",
        "outputId": "bc300d60-abf4-4b66-915e-ece671f29413"
      },
      "execution_count": 52,
      "outputs": [
        {
          "output_type": "execute_result",
          "data": {
            "text/plain": [
              "dtype('int64')"
            ]
          },
          "metadata": {},
          "execution_count": 52
        }
      ]
    },
    {
      "cell_type": "markdown",
      "source": [
        "ここでは、2×2の**A**という行列を作成した。\n",
        "\n",
        "なお、行列**A**の形状は**shape**で、行列**A**の要素のデータ型は**dtype**で参照することができる。\n",
        "\n",
        "続いて、行列の算術計算を見てみる。"
      ],
      "metadata": {
        "id": "iDD-JgVhr4cy"
      }
    },
    {
      "cell_type": "code",
      "source": [
        "B = np.array([[3, 0],[0, 6]])\n",
        "A + B"
      ],
      "metadata": {
        "colab": {
          "base_uri": "https://localhost:8080/"
        },
        "id": "qkAzzx6GsYt1",
        "outputId": "de5f184c-3a15-4eb7-d32e-3e604215f74c"
      },
      "execution_count": 53,
      "outputs": [
        {
          "output_type": "execute_result",
          "data": {
            "text/plain": [
              "array([[ 4,  2],\n",
              "       [ 3, 10]])"
            ]
          },
          "metadata": {},
          "execution_count": 53
        }
      ]
    },
    {
      "cell_type": "code",
      "source": [
        "A * B"
      ],
      "metadata": {
        "colab": {
          "base_uri": "https://localhost:8080/"
        },
        "id": "lJbY-o_2siYG",
        "outputId": "c8f67a71-cf8b-4edc-d734-09e0132470d6"
      },
      "execution_count": 54,
      "outputs": [
        {
          "output_type": "execute_result",
          "data": {
            "text/plain": [
              "array([[ 3,  0],\n",
              "       [ 0, 24]])"
            ]
          },
          "metadata": {},
          "execution_count": 54
        }
      ]
    },
    {
      "cell_type": "markdown",
      "source": [
        "配列の場合と同様に、行列の算術計算も同じ形状の行列どうしであれば、要素ごとに計算が行われる。\n",
        "\n",
        "また、行列に対してスカラ積(単一の数値)で算術計算を行うことも可能である。\n",
        "\n",
        "これも、ブロードキャストによる機能である。"
      ],
      "metadata": {
        "id": "Sgxa_E6GtLne"
      }
    },
    {
      "cell_type": "code",
      "source": [
        "print(A)"
      ],
      "metadata": {
        "colab": {
          "base_uri": "https://localhost:8080/"
        },
        "id": "95Uak_xMtimb",
        "outputId": "8eb5d7f0-43a9-4a84-b61f-cd0fce6794fa"
      },
      "execution_count": 55,
      "outputs": [
        {
          "output_type": "stream",
          "name": "stdout",
          "text": [
            "[[1 2]\n",
            " [3 4]]\n"
          ]
        }
      ]
    },
    {
      "cell_type": "code",
      "source": [
        "A * 10"
      ],
      "metadata": {
        "colab": {
          "base_uri": "https://localhost:8080/"
        },
        "id": "Nj1bq8m7uhB8",
        "outputId": "bccdcb38-36f9-46b4-bad5-dbe702f6f078"
      },
      "execution_count": 56,
      "outputs": [
        {
          "output_type": "execute_result",
          "data": {
            "text/plain": [
              "array([[10, 20],\n",
              "       [30, 40]])"
            ]
          },
          "metadata": {},
          "execution_count": 56
        }
      ]
    },
    {
      "cell_type": "markdown",
      "source": [
        "NumPyの配列(np.array)は、N次元の配列を作成することができる。\n",
        "\n",
        "N次元配列とは、1次元配列、2次元配列、3次元配列、...と好きな次元数の配列を作れることを意味する。\n",
        "\n",
        "数学では、1次元配列は**ベクトル**、2次元配列は**行列**呼ぶ。\n",
        "\n",
        "また、ベクトルや行列を一般化したものを**テンソル**と呼ぶ。"
      ],
      "metadata": {
        "id": "Ynx50_lWukVG"
      }
    },
    {
      "cell_type": "markdown",
      "source": [
        "**3.5 ブロードキャスト**"
      ],
      "metadata": {
        "id": "XRLMC7eFvUpt"
      }
    },
    {
      "cell_type": "markdown",
      "source": [
        "NumPyでは形状の異なる配列の演算も可能。\n",
        "\n",
        "先ほどの例では、**A**という2×2の行列に対して、**10**というスカラ値の掛け算を行った。\n",
        "\n",
        "その際どのようなことが行われているかというと、**10**というスカラ値が2×2の要素に拡大されて演算が行われている。\n",
        "\n",
        "この賢い機能は、**ブロードキャスト**(broadcast)と言う。"
      ],
      "metadata": {
        "id": "ILd3PeewvYHq"
      }
    },
    {
      "cell_type": "code",
      "source": [
        "A = np.array([[1, 2],[3, 4]])\n",
        "B = np.array([10, 20])\n",
        "A * B"
      ],
      "metadata": {
        "colab": {
          "base_uri": "https://localhost:8080/"
        },
        "id": "P1OPPZfEwHNQ",
        "outputId": "d01a1b70-b450-40ed-b261-b4a955b4ced8"
      },
      "execution_count": 57,
      "outputs": [
        {
          "output_type": "execute_result",
          "data": {
            "text/plain": [
              "array([[10, 40],\n",
              "       [30, 80]])"
            ]
          },
          "metadata": {},
          "execution_count": 57
        }
      ]
    },
    {
      "cell_type": "markdown",
      "source": [
        "ここでは1次元配列である**B**が2次元配列**A**と同じ形状になるように\"賢く\"変形されて、要素ごとの演算が行われる。\n",
        "\n",
        "このように、NumPyにはブロードキャストという機能があるため、形状の異なる配列どうしの演算をスマートに行うことができる。"
      ],
      "metadata": {
        "id": "8PlekwE3wZVl"
      }
    },
    {
      "cell_type": "markdown",
      "source": [
        "**3.6 要素へのアクセス**"
      ],
      "metadata": {
        "id": "z0j-USrlxDCG"
      }
    },
    {
      "cell_type": "markdown",
      "source": [
        "要素のインデックスは、0から始まる。\n",
        "\n",
        "各要素へのアクセスは、次のように行う。"
      ],
      "metadata": {
        "id": "9ErRjMixxHVo"
      }
    },
    {
      "cell_type": "code",
      "source": [
        "X = np.array([[51, 55],[14, 19],[0, 4]])\n",
        "print(X)"
      ],
      "metadata": {
        "colab": {
          "base_uri": "https://localhost:8080/"
        },
        "id": "lKug3HWkxO2K",
        "outputId": "79232cfa-7e1c-4eac-deb5-46c39ed45a34"
      },
      "execution_count": 58,
      "outputs": [
        {
          "output_type": "stream",
          "name": "stdout",
          "text": [
            "[[51 55]\n",
            " [14 19]\n",
            " [ 0  4]]\n"
          ]
        }
      ]
    },
    {
      "cell_type": "code",
      "source": [
        "X[0] # o行目"
      ],
      "metadata": {
        "colab": {
          "base_uri": "https://localhost:8080/"
        },
        "id": "PrN5DIPaxdvk",
        "outputId": "99600787-d05b-4e86-8998-9a1995d4eaee"
      },
      "execution_count": 59,
      "outputs": [
        {
          "output_type": "execute_result",
          "data": {
            "text/plain": [
              "array([51, 55])"
            ]
          },
          "metadata": {},
          "execution_count": 59
        }
      ]
    },
    {
      "cell_type": "code",
      "source": [
        "X[0][1] # (0, 1)の要素"
      ],
      "metadata": {
        "colab": {
          "base_uri": "https://localhost:8080/"
        },
        "id": "rbc1cx7yxkZN",
        "outputId": "4eaeda9c-f90a-4795-924d-5a78b80348d1"
      },
      "execution_count": 60,
      "outputs": [
        {
          "output_type": "execute_result",
          "data": {
            "text/plain": [
              "55"
            ]
          },
          "metadata": {},
          "execution_count": 60
        }
      ]
    },
    {
      "cell_type": "markdown",
      "source": [
        "for文を使って各要素にアクセスすることもできる。"
      ],
      "metadata": {
        "id": "7XGyA38cxzAY"
      }
    },
    {
      "cell_type": "code",
      "source": [
        "for row in X:\n",
        "    print(row)"
      ],
      "metadata": {
        "colab": {
          "base_uri": "https://localhost:8080/"
        },
        "id": "Zm3J0aWOyJMh",
        "outputId": "f1f1bf48-d2bd-4354-da2c-72dcee0cac62"
      },
      "execution_count": 61,
      "outputs": [
        {
          "output_type": "stream",
          "name": "stdout",
          "text": [
            "[51 55]\n",
            "[14 19]\n",
            "[0 4]\n"
          ]
        }
      ]
    },
    {
      "cell_type": "markdown",
      "source": [
        "NumPyは、これまで見てきたインデックス操作に加え、配列によって各要素にアクセスすることも可能である。"
      ],
      "metadata": {
        "id": "Oxhk-oD3yOt_"
      }
    },
    {
      "cell_type": "code",
      "source": [
        "X = X.flatten() # Xを1次元の配列へ変換\n",
        "print(X)"
      ],
      "metadata": {
        "colab": {
          "base_uri": "https://localhost:8080/"
        },
        "id": "lsphbY_AyaLl",
        "outputId": "26ea10eb-5a7b-4654-9962-9d98e3ee22d7"
      },
      "execution_count": 62,
      "outputs": [
        {
          "output_type": "stream",
          "name": "stdout",
          "text": [
            "[51 55 14 19  0  4]\n"
          ]
        }
      ]
    },
    {
      "cell_type": "code",
      "source": [
        "X[np.array([0, 2, 4])] # インデックスが0,2,4番目の要素を取得"
      ],
      "metadata": {
        "colab": {
          "base_uri": "https://localhost:8080/"
        },
        "id": "AMgcl2mNyjDn",
        "outputId": "59b6884d-272e-4f2a-a883-5bea5f35739a"
      },
      "execution_count": 63,
      "outputs": [
        {
          "output_type": "execute_result",
          "data": {
            "text/plain": [
              "array([51, 14,  0])"
            ]
          },
          "metadata": {},
          "execution_count": 63
        }
      ]
    },
    {
      "cell_type": "markdown",
      "source": [
        "この記法を応用すれば、ある条件を満たす要素だけを取得することができる。\n",
        "\n",
        "たとえば、**X**から15以上の値だけを抜き出すには、次のように書くことができる。"
      ],
      "metadata": {
        "id": "AM8SFITdy11Q"
      }
    },
    {
      "cell_type": "code",
      "source": [
        "X > 15"
      ],
      "metadata": {
        "colab": {
          "base_uri": "https://localhost:8080/"
        },
        "id": "NoaJ3nGGzRnj",
        "outputId": "a7ee1e63-30e5-4c75-86c5-803861e8c3c7"
      },
      "execution_count": 64,
      "outputs": [
        {
          "output_type": "execute_result",
          "data": {
            "text/plain": [
              "array([ True,  True, False,  True, False, False])"
            ]
          },
          "metadata": {},
          "execution_count": 64
        }
      ]
    },
    {
      "cell_type": "code",
      "source": [
        "X[X > 15]"
      ],
      "metadata": {
        "colab": {
          "base_uri": "https://localhost:8080/"
        },
        "id": "SKFCYqF0zVZy",
        "outputId": "1e598be6-d106-4286-a9ca-e551735175b0"
      },
      "execution_count": 65,
      "outputs": [
        {
          "output_type": "execute_result",
          "data": {
            "text/plain": [
              "array([51, 55, 19])"
            ]
          },
          "metadata": {},
          "execution_count": 65
        }
      ]
    },
    {
      "cell_type": "markdown",
      "source": [
        "NumPyの配列に対して不等号などの演算子を使うと、結果はブーリアンの配列になる。\n",
        "\n",
        "ここでは、ブーリアンの配列を使って、配列の各要素を取り出している(Trueに対応する要素を取り出している)。"
      ],
      "metadata": {
        "id": "bznz7QzzzZAM"
      }
    },
    {
      "cell_type": "markdown",
      "source": [
        "# 4 Matplotlib"
      ],
      "metadata": {
        "id": "2A0NG9k5Fnmw"
      }
    },
    {
      "cell_type": "markdown",
      "source": [
        "ディープラーニングに実験においては、グラフの描画やデータの可視化が重要になってくる。\n",
        "\n",
        "Matplotlibはグラフの描画のためのライブラリである。\n",
        "\n",
        "Matplotlibを使えば、グラフの描画やデータの可視化が簡単に行える。\n",
        "\n",
        "ここでは、グラフの描画方法と画像の表示方法について説明する。"
      ],
      "metadata": {
        "id": "OkFEwn2pFuGL"
      }
    },
    {
      "cell_type": "markdown",
      "source": [
        "**4.1 単純なグラフの描画**"
      ],
      "metadata": {
        "id": "L6ASbysWGV6v"
      }
    },
    {
      "cell_type": "markdown",
      "source": [
        "グラフの描画には、**matplotlib**の**pyplot**というモジュールを利用する。\n",
        "\n",
        "早速、sin関数を描画する。"
      ],
      "metadata": {
        "id": "o7xb1gFIGe-s"
      }
    },
    {
      "cell_type": "code",
      "source": [
        "import numpy as np\n",
        "import matplotlib.pyplot as plt\n",
        "\n",
        "# データの作成\n",
        "x = np.arange(0, 6, 0.1) # 0から6まで0.1刻みで生成\n",
        "y = np.sin(x)\n",
        "# グラフの描画\n",
        "plt.plot(x, y)\n",
        "plt.show() "
      ],
      "metadata": {
        "colab": {
          "base_uri": "https://localhost:8080/",
          "height": 265
        },
        "id": "leZo0GMXGp96",
        "outputId": "d3c6217a-bcd3-4e5e-e600-8eec7085fb89"
      },
      "execution_count": 66,
      "outputs": [
        {
          "output_type": "display_data",
          "data": {
            "image/png": "[encoded data removed]",
            "text/plain": [
              "<Figure size 432x288 with 1 Axes>"
            ]
          },
          "metadata": {
            "needs_background": "light"
          }
        }
      ]
    },
    {
      "cell_type": "markdown",
      "source": [
        "ここでは、NumPyの**arange**メソッドによって、[0, 0.1, 0.2, ..., 5.8, 5.9]というデータを生成し、これを**x**としている。\n",
        "\n",
        "この**x**の各要素を対象に、NumPyのsin関数ーnp.sin()ーを適用し、**x**、**y**のデータ列を**plt,plot**メソッドに与え、グラフを描画する。\n",
        "\n",
        "最後に、**plt.show()**でグラフを表示して終了。"
      ],
      "metadata": {
        "id": "ouYTjZ3HHKce"
      }
    },
    {
      "cell_type": "markdown",
      "source": [
        "**4.2 pyplotの機能**"
      ],
      "metadata": {
        "id": "l8vKkhoxKS_x"
      }
    },
    {
      "cell_type": "markdown",
      "source": [
        "先のsin関数に加え、cos関数も追加して描画してみる。\n",
        "\n",
        "さらに、タイトルやx軸ラベル名の描画など、**pyplot**の他の機能も利用してみる。"
      ],
      "metadata": {
        "id": "Z75xtfbfKXai"
      }
    },
    {
      "cell_type": "code",
      "source": [
        "import numpy as np\n",
        "import matplotlib.pyplot as plt\n",
        "\n",
        "# データの作成\n",
        "x = np.arange(0, 6, 0.1) # 0から6まで0.1刻みで生成\n",
        "y1 = np.sin(x)\n",
        "y2 = np.cos(x)\n",
        "\n",
        "# グラフの描画\n",
        "plt.plot(x, y1, label=\"sin\")\n",
        "plt.plot(x, y2, linestyle = \"--\", label=\"cos\") # cosを破線で表示\n",
        "plt.xlabel(\"x\") # x軸のラベル\n",
        "plt.ylabel(\"y\") # y軸のラベル\n",
        "plt.title('sin & cos') # タイトル\n",
        "plt.legend() # 凡例\n",
        "plt.show()"
      ],
      "metadata": {
        "colab": {
          "base_uri": "https://localhost:8080/",
          "height": 295
        },
        "id": "q9mLk6L8KoDT",
        "outputId": "8baf0a5d-6f99-4b81-89d6-c722ab2fa500"
      },
      "execution_count": 67,
      "outputs": [
        {
          "output_type": "display_data",
          "data": {
            "image/png": "[encoded data removed]",
            "text/plain": [
              "<Figure size 432x288 with 1 Axes>"
            ]
          },
          "metadata": {
            "needs_background": "light"
          }
        }
      ]
    },
    {
      "cell_type": "markdown",
      "source": [
        "**4.3 画像の表示**"
      ],
      "metadata": {
        "id": "0Cjlv_0RMSkF"
      }
    },
    {
      "cell_type": "markdown",
      "source": [
        "**pyplot**には、画像表示のためのメソッド**imshow()**も用意されている。\n",
        "\n",
        "また、画像の読み込みは、**matplotlib.image**モジュールの**imread**を利用することができる。"
      ],
      "metadata": {
        "id": "C79ITITPMVsD"
      }
    },
    {
      "cell_type": "code",
      "source": [
        "import matplotlib.pyplot as plt\n",
        "from matplotlib.image import imread\n",
        "\n",
        "img = imread('dio.jpg') # 画像の読み込み\n",
        "plt.imshow(img)\n",
        "\n",
        "plt.show()"
      ],
      "metadata": {
        "colab": {
          "base_uri": "https://localhost:8080/",
          "height": 269
        },
        "id": "BeZKtI-LNeWo",
        "outputId": "434e3af2-dcd5-4601-a826-70d92e2d125d"
      },
      "execution_count": 68,
      "outputs": [
        {
          "output_type": "display_data",
          "data": {
            "image/png": "[encoded data removed]",
            "text/plain": [
              "<Figure size 432x288 with 1 Axes>"
            ]
          },
          "metadata": {
            "needs_background": "light"
          }
        }
      ]
    },
    {
      "cell_type": "markdown",
      "source": [
        "ここでは、**dio.jpg**という画像がカレントディレクトリにあると想定している。\n",
        "\n",
        "このコードをそのまま試しても画像が出ない人がほとんどだと思うので、詳しくはSekiyaに聞いて下さい。"
      ],
      "metadata": {
        "id": "iwH2ED8bOcBr"
      }
    },
    {
      "cell_type": "markdown",
      "source": [
        "# 5 まとめ"
      ],
      "metadata": {
        "id": "AstR7oacO1HF"
      }
    },
    {
      "cell_type": "markdown",
      "source": [
        "このノートブックは、ディープラーニングの下準備のノートブックである。\n",
        "\n",
        "とりわけ、ディープラーニング(ニューラルネットワーク)の実装に向けて必要なプログラミングの解説を中心に、colab環境での必要な知識を執筆した。"
      ],
      "metadata": {
        "id": "M3dGpDrvO4mD"
      }
    },
    {
      "cell_type": "markdown",
      "source": [
        "**このノートで学んだこと**\n",
        "\n",
        "*   Pythonはシンプルで覚えやすい。\n",
        "*   Pythonはオープンリソースで使用できる。\n",
        "*   Python3系をベースに話を進める。\n",
        "*   外部ライブラリはNumPyとMatplotlibである。\n",
        "*   Pythonの実行モードには、「インタプリタ」と「スクリプトファイル」の2つのモードがある。\n",
        "*   Pythonでは関数やクラスといったモジュールとして実装をまとめることができる。\n",
        "*   NumPyには多次元配列を操作するための便利なメソッドがある。\n"
      ],
      "metadata": {
        "id": "TH57hszIPWkt"
      }
    }
  ]
}
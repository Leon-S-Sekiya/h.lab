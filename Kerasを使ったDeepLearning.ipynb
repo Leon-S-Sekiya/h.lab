{
  "nbformat": 4,
  "nbformat_minor": 0,
  "metadata": {
    "colab": {
      "name": "Kerasを使ったDeepLearning.ipynb",
      "provenance": [],
      "collapsed_sections": [],
      "mount_file_id": "1R4mYmEU9CU_BrOmbe8b4PfHf6d0-zXf6",
      "authorship_tag": "ABX9TyMnsLhffgORgfV/l7ZlqC8H",
      "include_colab_link": true
    },
    "kernelspec": {
      "name": "python3",
      "display_name": "Python 3"
    },
    "language_info": {
      "name": "python"
    }
  },
  "cells": [
    {
      "cell_type": "markdown",
      "metadata": {
        "id": "view-in-github",
        "colab_type": "text"
      },
      "source": [
        "<a href=\"https://colab.research.google.com/github/Leon-S-Sekiya/h.lab/blob/main/Keras%E3%82%92%E4%BD%BF%E3%81%A3%E3%81%9FDeepLearning.ipynb\" target=\"_parent\"><img src=\"https://colab.research.google.com/assets/colab-badge.svg\" alt=\"Open In Colab\"/></a>"
      ]
    },
    {
      "cell_type": "markdown",
      "source": [
        "Kerasを使った深層学習のプログラムを作成。\n",
        "\n",
        "今回は、KerasのGithubのサンプルプログラム「mnist_mlp」を参考とする。\n",
        "\n",
        "このプログラムは、MNISTという手書き文字の画像のデータセットを分類するものである。\n",
        "\n",
        "MNISTは60000件の訓練データと10000件のテストデータで構成されている。\n",
        "\n",
        "各データは28×28ピクセルの白黒画像である。"
      ],
      "metadata": {
        "id": "0vUmn31G7CNF"
      }
    },
    {
      "cell_type": "code",
      "source": [
        "import keras\n",
        "from tensorflow import keras\n",
        "from keras.datasets import mnist\n",
        "from keras.models import Sequential\n",
        "from keras.layers import Dense, Dropout\n",
        "from tensorflow.keras.optimizers import RMSprop\n",
        "from tensorflow.keras.utils import to_categorical\n",
        "#from tensorflow.keras import optimizers\n",
        "#from keras.optimizers import RMSprop\n",
        "\n",
        "batch_size = 128  # 訓練データを128ずつのデータに分けて学習させる\n",
        "num_classes = 10 # 分類させる数。数字なので10種類\n",
        "epochs = 20 # 訓練データを繰り返し学習させる数\n",
        "\n",
        "# 訓練データ(train)とテストデータ（test)を取得する\n",
        "(x_train, y_train), (x_test, y_test) = mnist.load_data()\n",
        "\n",
        "# 元のデータは1次元の配列なので、それを画像ごとの配列に整形する\n",
        "x_train = x_train.reshape(60000, 784)\n",
        "x_test = x_test.reshape(10000, 784)\n",
        "x_train = x_train.astype('float32')\n",
        "x_test = x_test.astype('float32')\n",
        "x_train /= 255\n",
        "x_test /= 255\n",
        "print(x_train.shape[0], 'train samples')\n",
        "print(x_test.shape[0], 'test samples')\n",
        "\n",
        "# y(目的変数)には0から9の数字が入っているが、Kerasで扱いやすい形に変換する\n",
        "y_train = to_categorical(y_train, num_classes)\n",
        "y_test = to_categorical(y_test, num_classes)\n",
        "\n",
        "# モデルの作成\n",
        "model = Sequential()\n",
        "model.add(Dense(512, activation='relu', input_shape=(784,)))\n",
        "model.add(Dropout(0.2))\n",
        "model.add(Dense(512, activation='relu'))\n",
        "model.add(Dropout(0.2))\n",
        "model.add(Dense(num_classes, activation='softmax'))\n",
        "\n",
        "model.summary()\n",
        "\n",
        "model.compile(loss='categorical_crossentropy',\n",
        " optimizer=RMSprop(),\n",
        " metrics=['accuracy'])\n",
        "\n",
        "# 学習は、scrkit-learnと同様fitで記述できる\n",
        "history = model.fit(x_train, y_train,\n",
        " batch_size=batch_size,\n",
        " epochs=epochs,\n",
        " verbose=1,\n",
        " validation_data=(x_test, y_test))\n",
        "\n",
        "# 評価はevaluateで行う\n",
        "score = model.evaluate(x_test, y_test, verbose=0)\n",
        "print('Test loss:', score[0])\n",
        "print('Test accuracy:', score[1])"
      ],
      "metadata": {
        "colab": {
          "base_uri": "https://localhost:8080/"
        },
        "id": "au-WdAHL74a_",
        "outputId": "5319bce1-dfe9-497d-8a1e-57cecd9ebb90"
      },
      "execution_count": 7,
      "outputs": [
        {
          "output_type": "stream",
          "name": "stdout",
          "text": [
            "60000 train samples\n",
            "10000 test samples\n",
            "Model: \"sequential_1\"\n",
            "_________________________________________________________________\n",
            " Layer (type)                Output Shape              Param #   \n",
            "=================================================================\n",
            " dense_3 (Dense)             (None, 512)               401920    \n",
            "                                                                 \n",
            " dropout_2 (Dropout)         (None, 512)               0         \n",
            "                                                                 \n",
            " dense_4 (Dense)             (None, 512)               262656    \n",
            "                                                                 \n",
            " dropout_3 (Dropout)         (None, 512)               0         \n",
            "                                                                 \n",
            " dense_5 (Dense)             (None, 10)                5130      \n",
            "                                                                 \n",
            "=================================================================\n",
            "Total params: 669,706\n",
            "Trainable params: 669,706\n",
            "Non-trainable params: 0\n",
            "_________________________________________________________________\n",
            "Epoch 1/20\n",
            "469/469 [==============================] - 10s 20ms/step - loss: 0.2472 - accuracy: 0.9238 - val_loss: 0.1082 - val_accuracy: 0.9659\n",
            "Epoch 2/20\n",
            "469/469 [==============================] - 9s 20ms/step - loss: 0.1020 - accuracy: 0.9691 - val_loss: 0.0794 - val_accuracy: 0.9747\n",
            "Epoch 3/20\n",
            "469/469 [==============================] - 9s 20ms/step - loss: 0.0748 - accuracy: 0.9775 - val_loss: 0.0737 - val_accuracy: 0.9786\n",
            "Epoch 4/20\n",
            "469/469 [==============================] - 9s 19ms/step - loss: 0.0599 - accuracy: 0.9816 - val_loss: 0.0759 - val_accuracy: 0.9795\n",
            "Epoch 5/20\n",
            "469/469 [==============================] - 9s 19ms/step - loss: 0.0507 - accuracy: 0.9847 - val_loss: 0.0767 - val_accuracy: 0.9794\n",
            "Epoch 6/20\n",
            "469/469 [==============================] - 9s 19ms/step - loss: 0.0433 - accuracy: 0.9870 - val_loss: 0.0870 - val_accuracy: 0.9784\n",
            "Epoch 7/20\n",
            "469/469 [==============================] - 9s 19ms/step - loss: 0.0376 - accuracy: 0.9888 - val_loss: 0.0745 - val_accuracy: 0.9833\n",
            "Epoch 8/20\n",
            "469/469 [==============================] - 10s 21ms/step - loss: 0.0339 - accuracy: 0.9897 - val_loss: 0.0811 - val_accuracy: 0.9807\n",
            "Epoch 9/20\n",
            "469/469 [==============================] - 9s 19ms/step - loss: 0.0307 - accuracy: 0.9910 - val_loss: 0.0744 - val_accuracy: 0.9841\n",
            "Epoch 10/20\n",
            "469/469 [==============================] - 9s 19ms/step - loss: 0.0295 - accuracy: 0.9912 - val_loss: 0.0834 - val_accuracy: 0.9829\n",
            "Epoch 11/20\n",
            "469/469 [==============================] - 9s 20ms/step - loss: 0.0268 - accuracy: 0.9926 - val_loss: 0.0985 - val_accuracy: 0.9809\n",
            "Epoch 12/20\n",
            "469/469 [==============================] - 9s 20ms/step - loss: 0.0266 - accuracy: 0.9929 - val_loss: 0.0904 - val_accuracy: 0.9822\n",
            "Epoch 13/20\n",
            "469/469 [==============================] - 9s 19ms/step - loss: 0.0224 - accuracy: 0.9932 - val_loss: 0.1066 - val_accuracy: 0.9816\n",
            "Epoch 14/20\n",
            "469/469 [==============================] - 9s 20ms/step - loss: 0.0198 - accuracy: 0.9945 - val_loss: 0.1074 - val_accuracy: 0.9819\n",
            "Epoch 15/20\n",
            "469/469 [==============================] - 9s 20ms/step - loss: 0.0225 - accuracy: 0.9938 - val_loss: 0.1050 - val_accuracy: 0.9836\n",
            "Epoch 16/20\n",
            "469/469 [==============================] - 9s 20ms/step - loss: 0.0190 - accuracy: 0.9945 - val_loss: 0.1072 - val_accuracy: 0.9834\n",
            "Epoch 17/20\n",
            "469/469 [==============================] - 10s 20ms/step - loss: 0.0168 - accuracy: 0.9953 - val_loss: 0.1190 - val_accuracy: 0.9833\n",
            "Epoch 18/20\n",
            "469/469 [==============================] - 10s 20ms/step - loss: 0.0203 - accuracy: 0.9944 - val_loss: 0.1200 - val_accuracy: 0.9820\n",
            "Epoch 19/20\n",
            "469/469 [==============================] - 10s 20ms/step - loss: 0.0166 - accuracy: 0.9954 - val_loss: 0.1243 - val_accuracy: 0.9833\n",
            "Epoch 20/20\n",
            "469/469 [==============================] - 9s 20ms/step - loss: 0.0161 - accuracy: 0.9954 - val_loss: 0.1151 - val_accuracy: 0.9841\n",
            "Test loss: 0.11506395041942596\n",
            "Test accuracy: 0.9840999841690063\n"
          ]
        }
      ]
    }
  ]
}
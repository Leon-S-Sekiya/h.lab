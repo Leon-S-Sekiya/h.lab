{
  "nbformat": 4,
  "nbformat_minor": 0,
  "metadata": {
    "colab": {
      "name": "tanyao.ipynb",
      "provenance": [],
      "collapsed_sections": [],
      "authorship_tag": "ABX9TyPT3AU/dbtrq2rpuMwLIUAy",
      "include_colab_link": true
    },
    "kernelspec": {
      "name": "python3",
      "display_name": "Python 3"
    },
    "language_info": {
      "name": "python"
    }
  },
  "cells": [
    {
      "cell_type": "markdown",
      "metadata": {
        "id": "view-in-github",
        "colab_type": "text"
      },
      "source": [
        "<a href=\"https://colab.research.google.com/github/Leon-S-Sekiya/h.lab/blob/main/tanyao.ipynb\" target=\"_parent\"><img src=\"https://colab.research.google.com/assets/colab-badge.svg\" alt=\"Open In Colab\"/></a>"
      ]
    },
    {
      "cell_type": "markdown",
      "source": [
        "データおよびライブラリのロード"
      ],
      "metadata": {
        "id": "dYINC509IHwf"
      }
    },
    {
      "cell_type": "code",
      "execution_count": null,
      "metadata": {
        "colab": {
          "base_uri": "https://localhost:8080/"
        },
        "id": "4ZXBmd9hHnW4",
        "outputId": "39bae27f-bbb7-4e96-aa25-b5122235bb30"
      },
      "outputs": [
        {
          "output_type": "stream",
          "name": "stdout",
          "text": [
            "{'data': array([[5.1, 3.5, 1.4, 0.2],\n",
            "       [4.9, 3. , 1.4, 0.2],\n",
            "       [4.7, 3.2, 1.3, 0.2],\n",
            "       [4.6, 3.1, 1.5, 0.2],\n",
            "       [5. , 3.6, 1.4, 0.2],\n",
            "       [5.4, 3.9, 1.7, 0.4],\n",
            "       [4.6, 3.4, 1.4, 0.3],\n",
            "       [5. , 3.4, 1.5, 0.2],\n",
            "       [4.4, 2.9, 1.4, 0.2],\n",
            "       [4.9, 3.1, 1.5, 0.1],\n",
            "       [5.4, 3.7, 1.5, 0.2],\n",
            "       [4.8, 3.4, 1.6, 0.2],\n",
            "       [4.8, 3. , 1.4, 0.1],\n",
            "       [4.3, 3. , 1.1, 0.1],\n",
            "       [5.8, 4. , 1.2, 0.2],\n",
            "       [5.7, 4.4, 1.5, 0.4],\n",
            "       [5.4, 3.9, 1.3, 0.4],\n",
            "       [5.1, 3.5, 1.4, 0.3],\n",
            "       [5.7, 3.8, 1.7, 0.3],\n",
            "       [5.1, 3.8, 1.5, 0.3],\n",
            "       [5.4, 3.4, 1.7, 0.2],\n",
            "       [5.1, 3.7, 1.5, 0.4],\n",
            "       [4.6, 3.6, 1. , 0.2],\n",
            "       [5.1, 3.3, 1.7, 0.5],\n",
            "       [4.8, 3.4, 1.9, 0.2],\n",
            "       [5. , 3. , 1.6, 0.2],\n",
            "       [5. , 3.4, 1.6, 0.4],\n",
            "       [5.2, 3.5, 1.5, 0.2],\n",
            "       [5.2, 3.4, 1.4, 0.2],\n",
            "       [4.7, 3.2, 1.6, 0.2],\n",
            "       [4.8, 3.1, 1.6, 0.2],\n",
            "       [5.4, 3.4, 1.5, 0.4],\n",
            "       [5.2, 4.1, 1.5, 0.1],\n",
            "       [5.5, 4.2, 1.4, 0.2],\n",
            "       [4.9, 3.1, 1.5, 0.2],\n",
            "       [5. , 3.2, 1.2, 0.2],\n",
            "       [5.5, 3.5, 1.3, 0.2],\n",
            "       [4.9, 3.6, 1.4, 0.1],\n",
            "       [4.4, 3. , 1.3, 0.2],\n",
            "       [5.1, 3.4, 1.5, 0.2],\n",
            "       [5. , 3.5, 1.3, 0.3],\n",
            "       [4.5, 2.3, 1.3, 0.3],\n",
            "       [4.4, 3.2, 1.3, 0.2],\n",
            "       [5. , 3.5, 1.6, 0.6],\n",
            "       [5.1, 3.8, 1.9, 0.4],\n",
            "       [4.8, 3. , 1.4, 0.3],\n",
            "       [5.1, 3.8, 1.6, 0.2],\n",
            "       [4.6, 3.2, 1.4, 0.2],\n",
            "       [5.3, 3.7, 1.5, 0.2],\n",
            "       [5. , 3.3, 1.4, 0.2],\n",
            "       [7. , 3.2, 4.7, 1.4],\n",
            "       [6.4, 3.2, 4.5, 1.5],\n",
            "       [6.9, 3.1, 4.9, 1.5],\n",
            "       [5.5, 2.3, 4. , 1.3],\n",
            "       [6.5, 2.8, 4.6, 1.5],\n",
            "       [5.7, 2.8, 4.5, 1.3],\n",
            "       [6.3, 3.3, 4.7, 1.6],\n",
            "       [4.9, 2.4, 3.3, 1. ],\n",
            "       [6.6, 2.9, 4.6, 1.3],\n",
            "       [5.2, 2.7, 3.9, 1.4],\n",
            "       [5. , 2. , 3.5, 1. ],\n",
            "       [5.9, 3. , 4.2, 1.5],\n",
            "       [6. , 2.2, 4. , 1. ],\n",
            "       [6.1, 2.9, 4.7, 1.4],\n",
            "       [5.6, 2.9, 3.6, 1.3],\n",
            "       [6.7, 3.1, 4.4, 1.4],\n",
            "       [5.6, 3. , 4.5, 1.5],\n",
            "       [5.8, 2.7, 4.1, 1. ],\n",
            "       [6.2, 2.2, 4.5, 1.5],\n",
            "       [5.6, 2.5, 3.9, 1.1],\n",
            "       [5.9, 3.2, 4.8, 1.8],\n",
            "       [6.1, 2.8, 4. , 1.3],\n",
            "       [6.3, 2.5, 4.9, 1.5],\n",
            "       [6.1, 2.8, 4.7, 1.2],\n",
            "       [6.4, 2.9, 4.3, 1.3],\n",
            "       [6.6, 3. , 4.4, 1.4],\n",
            "       [6.8, 2.8, 4.8, 1.4],\n",
            "       [6.7, 3. , 5. , 1.7],\n",
            "       [6. , 2.9, 4.5, 1.5],\n",
            "       [5.7, 2.6, 3.5, 1. ],\n",
            "       [5.5, 2.4, 3.8, 1.1],\n",
            "       [5.5, 2.4, 3.7, 1. ],\n",
            "       [5.8, 2.7, 3.9, 1.2],\n",
            "       [6. , 2.7, 5.1, 1.6],\n",
            "       [5.4, 3. , 4.5, 1.5],\n",
            "       [6. , 3.4, 4.5, 1.6],\n",
            "       [6.7, 3.1, 4.7, 1.5],\n",
            "       [6.3, 2.3, 4.4, 1.3],\n",
            "       [5.6, 3. , 4.1, 1.3],\n",
            "       [5.5, 2.5, 4. , 1.3],\n",
            "       [5.5, 2.6, 4.4, 1.2],\n",
            "       [6.1, 3. , 4.6, 1.4],\n",
            "       [5.8, 2.6, 4. , 1.2],\n",
            "       [5. , 2.3, 3.3, 1. ],\n",
            "       [5.6, 2.7, 4.2, 1.3],\n",
            "       [5.7, 3. , 4.2, 1.2],\n",
            "       [5.7, 2.9, 4.2, 1.3],\n",
            "       [6.2, 2.9, 4.3, 1.3],\n",
            "       [5.1, 2.5, 3. , 1.1],\n",
            "       [5.7, 2.8, 4.1, 1.3],\n",
            "       [6.3, 3.3, 6. , 2.5],\n",
            "       [5.8, 2.7, 5.1, 1.9],\n",
            "       [7.1, 3. , 5.9, 2.1],\n",
            "       [6.3, 2.9, 5.6, 1.8],\n",
            "       [6.5, 3. , 5.8, 2.2],\n",
            "       [7.6, 3. , 6.6, 2.1],\n",
            "       [4.9, 2.5, 4.5, 1.7],\n",
            "       [7.3, 2.9, 6.3, 1.8],\n",
            "       [6.7, 2.5, 5.8, 1.8],\n",
            "       [7.2, 3.6, 6.1, 2.5],\n",
            "       [6.5, 3.2, 5.1, 2. ],\n",
            "       [6.4, 2.7, 5.3, 1.9],\n",
            "       [6.8, 3. , 5.5, 2.1],\n",
            "       [5.7, 2.5, 5. , 2. ],\n",
            "       [5.8, 2.8, 5.1, 2.4],\n",
            "       [6.4, 3.2, 5.3, 2.3],\n",
            "       [6.5, 3. , 5.5, 1.8],\n",
            "       [7.7, 3.8, 6.7, 2.2],\n",
            "       [7.7, 2.6, 6.9, 2.3],\n",
            "       [6. , 2.2, 5. , 1.5],\n",
            "       [6.9, 3.2, 5.7, 2.3],\n",
            "       [5.6, 2.8, 4.9, 2. ],\n",
            "       [7.7, 2.8, 6.7, 2. ],\n",
            "       [6.3, 2.7, 4.9, 1.8],\n",
            "       [6.7, 3.3, 5.7, 2.1],\n",
            "       [7.2, 3.2, 6. , 1.8],\n",
            "       [6.2, 2.8, 4.8, 1.8],\n",
            "       [6.1, 3. , 4.9, 1.8],\n",
            "       [6.4, 2.8, 5.6, 2.1],\n",
            "       [7.2, 3. , 5.8, 1.6],\n",
            "       [7.4, 2.8, 6.1, 1.9],\n",
            "       [7.9, 3.8, 6.4, 2. ],\n",
            "       [6.4, 2.8, 5.6, 2.2],\n",
            "       [6.3, 2.8, 5.1, 1.5],\n",
            "       [6.1, 2.6, 5.6, 1.4],\n",
            "       [7.7, 3. , 6.1, 2.3],\n",
            "       [6.3, 3.4, 5.6, 2.4],\n",
            "       [6.4, 3.1, 5.5, 1.8],\n",
            "       [6. , 3. , 4.8, 1.8],\n",
            "       [6.9, 3.1, 5.4, 2.1],\n",
            "       [6.7, 3.1, 5.6, 2.4],\n",
            "       [6.9, 3.1, 5.1, 2.3],\n",
            "       [5.8, 2.7, 5.1, 1.9],\n",
            "       [6.8, 3.2, 5.9, 2.3],\n",
            "       [6.7, 3.3, 5.7, 2.5],\n",
            "       [6.7, 3. , 5.2, 2.3],\n",
            "       [6.3, 2.5, 5. , 1.9],\n",
            "       [6.5, 3. , 5.2, 2. ],\n",
            "       [6.2, 3.4, 5.4, 2.3],\n",
            "       [5.9, 3. , 5.1, 1.8]]), 'target': array([0, 0, 0, 0, 0, 0, 0, 0, 0, 0, 0, 0, 0, 0, 0, 0, 0, 0, 0, 0, 0, 0,\n",
            "       0, 0, 0, 0, 0, 0, 0, 0, 0, 0, 0, 0, 0, 0, 0, 0, 0, 0, 0, 0, 0, 0,\n",
            "       0, 0, 0, 0, 0, 0, 1, 1, 1, 1, 1, 1, 1, 1, 1, 1, 1, 1, 1, 1, 1, 1,\n",
            "       1, 1, 1, 1, 1, 1, 1, 1, 1, 1, 1, 1, 1, 1, 1, 1, 1, 1, 1, 1, 1, 1,\n",
            "       1, 1, 1, 1, 1, 1, 1, 1, 1, 1, 1, 1, 2, 2, 2, 2, 2, 2, 2, 2, 2, 2,\n",
            "       2, 2, 2, 2, 2, 2, 2, 2, 2, 2, 2, 2, 2, 2, 2, 2, 2, 2, 2, 2, 2, 2,\n",
            "       2, 2, 2, 2, 2, 2, 2, 2, 2, 2, 2, 2, 2, 2, 2, 2, 2, 2]), 'frame': None, 'target_names': array(['setosa', 'versicolor', 'virginica'], dtype='<U10'), 'DESCR': '.. _iris_dataset:\\n\\nIris plants dataset\\n--------------------\\n\\n**Data Set Characteristics:**\\n\\n    :Number of Instances: 150 (50 in each of three classes)\\n    :Number of Attributes: 4 numeric, predictive attributes and the class\\n    :Attribute Information:\\n        - sepal length in cm\\n        - sepal width in cm\\n        - petal length in cm\\n        - petal width in cm\\n        - class:\\n                - Iris-Setosa\\n                - Iris-Versicolour\\n                - Iris-Virginica\\n                \\n    :Summary Statistics:\\n\\n    ============== ==== ==== ======= ===== ====================\\n                    Min  Max   Mean    SD   Class Correlation\\n    ============== ==== ==== ======= ===== ====================\\n    sepal length:   4.3  7.9   5.84   0.83    0.7826\\n    sepal width:    2.0  4.4   3.05   0.43   -0.4194\\n    petal length:   1.0  6.9   3.76   1.76    0.9490  (high!)\\n    petal width:    0.1  2.5   1.20   0.76    0.9565  (high!)\\n    ============== ==== ==== ======= ===== ====================\\n\\n    :Missing Attribute Values: None\\n    :Class Distribution: 33.3% for each of 3 classes.\\n    :Creator: R.A. Fisher\\n    :Donor: Michael Marshall (MARSHALL%PLU@io.arc.nasa.gov)\\n    :Date: July, 1988\\n\\nThe famous Iris database, first used by Sir R.A. Fisher. The dataset is taken\\nfrom Fisher\\'s paper. Note that it\\'s the same as in R, but not as in the UCI\\nMachine Learning Repository, which has two wrong data points.\\n\\nThis is perhaps the best known database to be found in the\\npattern recognition literature.  Fisher\\'s paper is a classic in the field and\\nis referenced frequently to this day.  (See Duda & Hart, for example.)  The\\ndata set contains 3 classes of 50 instances each, where each class refers to a\\ntype of iris plant.  One class is linearly separable from the other 2; the\\nlatter are NOT linearly separable from each other.\\n\\n.. topic:: References\\n\\n   - Fisher, R.A. \"The use of multiple measurements in taxonomic problems\"\\n     Annual Eugenics, 7, Part II, 179-188 (1936); also in \"Contributions to\\n     Mathematical Statistics\" (John Wiley, NY, 1950).\\n   - Duda, R.O., & Hart, P.E. (1973) Pattern Classification and Scene Analysis.\\n     (Q327.D83) John Wiley & Sons.  ISBN 0-471-22361-1.  See page 218.\\n   - Dasarathy, B.V. (1980) \"Nosing Around the Neighborhood: A New System\\n     Structure and Classification Rule for Recognition in Partially Exposed\\n     Environments\".  IEEE Transactions on Pattern Analysis and Machine\\n     Intelligence, Vol. PAMI-2, No. 1, 67-71.\\n   - Gates, G.W. (1972) \"The Reduced Nearest Neighbor Rule\".  IEEE Transactions\\n     on Information Theory, May 1972, 431-433.\\n   - See also: 1988 MLC Proceedings, 54-64.  Cheeseman et al\"s AUTOCLASS II\\n     conceptual clustering system finds 3 classes in the data.\\n   - Many, many more ...', 'feature_names': ['sepal length (cm)', 'sepal width (cm)', 'petal length (cm)', 'petal width (cm)'], 'filename': 'iris.csv', 'data_module': 'sklearn.datasets.data'}\n"
          ]
        }
      ],
      "source": [
        "import numpy as np\n",
        "import tensorflow as tf\n",
        "from tensorflow import keras\n",
        "from sklearn.datasets import load_iris\n",
        "iris = load_iris()\n",
        "list(iris.target_names)\n",
        "print(iris)"
      ]
    },
    {
      "cell_type": "markdown",
      "source": [
        "TensorFlowとKeras\n",
        "Versionの確認"
      ],
      "metadata": {
        "id": "WcsMrNnsJXft"
      }
    },
    {
      "cell_type": "code",
      "source": [
        "import tensorflow as tf\n",
        "from tensorflow import keras\n",
        "print(tf.__version__)\n",
        "tf.random.set_seed(1)"
      ],
      "metadata": {
        "colab": {
          "base_uri": "https://localhost:8080/"
        },
        "id": "-9MlbIZUJXMZ",
        "outputId": "82b9fd2f-e4fd-4f94-f917-f78d640f47d0"
      },
      "execution_count": null,
      "outputs": [
        {
          "output_type": "stream",
          "name": "stdout",
          "text": [
            "2.7.0\n"
          ]
        }
      ]
    },
    {
      "cell_type": "markdown",
      "source": [
        "データの分割"
      ],
      "metadata": {
        "id": "QXmeGGwkJyX-"
      }
    },
    {
      "cell_type": "code",
      "source": [
        "import random"
      ],
      "metadata": {
        "id": "_fabzyj7J2Hn"
      },
      "execution_count": null,
      "outputs": []
    },
    {
      "cell_type": "markdown",
      "source": [
        "乱数のシード固定、idxrという名のリスト作成、シャッフル"
      ],
      "metadata": {
        "id": "Sa18Oi04J6ZD"
      }
    },
    {
      "cell_type": "code",
      "source": [
        "import random\n",
        "random.seed(12345)\n",
        "Ndata = len(iris.data)\n",
        "print(f\"Ndata={Ndata}\")\n",
        "idxr = [k for k in range(Ndata)]\n",
        "print(idxr) #0～149まで順番が正しく出ているかチェック\n",
        "random.shuffle(idxr)\n",
        "print(idxr) #順番が出鱈目になっているかチェック"
      ],
      "metadata": {
        "colab": {
          "base_uri": "https://localhost:8080/"
        },
        "id": "Dsx4j0VfKEGi",
        "outputId": "599bcffb-1820-48ad-b279-6617000f5f65"
      },
      "execution_count": null,
      "outputs": [
        {
          "output_type": "stream",
          "name": "stdout",
          "text": [
            "Ndata=150\n",
            "[0, 1, 2, 3, 4, 5, 6, 7, 8, 9, 10, 11, 12, 13, 14, 15, 16, 17, 18, 19, 20, 21, 22, 23, 24, 25, 26, 27, 28, 29, 30, 31, 32, 33, 34, 35, 36, 37, 38, 39, 40, 41, 42, 43, 44, 45, 46, 47, 48, 49, 50, 51, 52, 53, 54, 55, 56, 57, 58, 59, 60, 61, 62, 63, 64, 65, 66, 67, 68, 69, 70, 71, 72, 73, 74, 75, 76, 77, 78, 79, 80, 81, 82, 83, 84, 85, 86, 87, 88, 89, 90, 91, 92, 93, 94, 95, 96, 97, 98, 99, 100, 101, 102, 103, 104, 105, 106, 107, 108, 109, 110, 111, 112, 113, 114, 115, 116, 117, 118, 119, 120, 121, 122, 123, 124, 125, 126, 127, 128, 129, 130, 131, 132, 133, 134, 135, 136, 137, 138, 139, 140, 141, 142, 143, 144, 145, 146, 147, 148, 149]\n",
            "[109, 78, 108, 60, 93, 46, 14, 59, 118, 8, 18, 96, 77, 62, 104, 25, 99, 133, 130, 82, 80, 148, 17, 4, 34, 101, 33, 81, 126, 61, 28, 89, 132, 79, 9, 68, 64, 54, 149, 35, 26, 136, 70, 140, 40, 57, 120, 39, 30, 119, 139, 113, 102, 103, 86, 45, 72, 114, 50, 11, 122, 51, 24, 10, 56, 7, 6, 117, 124, 145, 112, 121, 144, 137, 91, 128, 1, 38, 21, 92, 16, 138, 55, 75, 32, 100, 85, 71, 27, 63, 15, 97, 5, 131, 135, 147, 67, 29, 127, 146, 134, 73, 87, 13, 116, 83, 12, 36, 22, 74, 98, 20, 143, 84, 115, 0, 53, 141, 88, 65, 123, 125, 58, 3, 142, 43, 107, 48, 19, 52, 37, 42, 129, 105, 23, 90, 47, 44, 66, 110, 31, 95, 41, 111, 69, 49, 94, 76, 2, 106]\n"
          ]
        }
      ]
    },
    {
      "cell_type": "markdown",
      "source": [
        "上記により、ランダムな番号での呼び出しが可能となった。\n",
        "いよいよデータ分割である。"
      ],
      "metadata": {
        "id": "Rv3VY9q8LKwK"
      }
    },
    {
      "cell_type": "code",
      "source": [
        "Ndata_train = int(Ndata*0.5)#分割の割合を指定。\n",
        "print(f\"# of training data = {Ndata_train}\")\n",
        "print(f\"# of validation data = {Ndata-Ndata_train}\")\n",
        "train_data = iris.data[idxr[:Ndata_train]]#訓練データ\n",
        "train_labels = iris.target[idxr[:Ndata_train]]#訓練データの教師ラベル\n",
        "\n",
        "val_data = iris.data[idxr[Ndata_train:]]#検証データ\n",
        "val_labels = iris.target[idxr[Ndata_train:]]#検証データの教師ラベル"
      ],
      "metadata": {
        "colab": {
          "base_uri": "https://localhost:8080/"
        },
        "id": "Eqf6Ww0JLkXR",
        "outputId": "b6b25886-108f-4e9e-b7fc-e1ca04631ddc"
      },
      "execution_count": null,
      "outputs": [
        {
          "output_type": "stream",
          "name": "stdout",
          "text": [
            "# of training data = 75\n",
            "# of validation data = 75\n"
          ]
        }
      ]
    },
    {
      "cell_type": "markdown",
      "source": [
        "ニューラルネットワークの設計\n",
        "\n",
        "4次元のデータから3次元のラベルへの写像を創る。\n",
        "* 中間層：1層\n",
        "* ユニット数:10\n",
        "\n",
        "KerasのSequentialを使って引数を設定し、インスタンスを作成する。"
      ],
      "metadata": {
        "id": "Vg3OvCCKNLvQ"
      }
    },
    {
      "cell_type": "code",
      "source": [
        "model = keras.Sequential([\n",
        "        keras.layers.Dense(4, activation='relu'),\n",
        "        keras.layers.Dense(10, activation='relu'),\n",
        "        keras.layers.Dense(3, activation='softmax')               \n",
        "])"
      ],
      "metadata": {
        "id": "YAUHwJyONQXh"
      },
      "execution_count": null,
      "outputs": []
    },
    {
      "cell_type": "markdown",
      "source": [
        "学習\n",
        "トレーニングの設定。勾配法を使う。\n",
        "optimizer='SGD'と指定する。\n",
        "Adamなどを指定すると得られる誤差関数の履歴が変わる(要検証)\n",
        "クロスエントロピーを選択。"
      ],
      "metadata": {
        "id": "9AwMjdBeOMvD"
      }
    },
    {
      "cell_type": "code",
      "source": [
        "model.compile(optimizer='SGD',\n",
        "        loss = 'sparase_categorical_crossentropy',\n",
        "        metrics = ['accuracy'])#分類の精度を評価"
      ],
      "metadata": {
        "id": "ASrIWzX_OyDT"
      },
      "execution_count": null,
      "outputs": []
    },
    {
      "cell_type": "markdown",
      "source": [
        "実際の学習には、modelの関数であるfitを使えばよい。\n",
        "\n",
        "訓練データと訓練データのラベルが必須。今回は検証データもつける。\n",
        "\n",
        "学習は20エボック(訓練データ全体を20回使ってトレーニング)\n",
        "\n",
        "ミニパッチのサイズを7つ(=75/10)\n",
        "\n",
        "上記の数字をなぜそう設定したのか分かっていない。"
      ],
      "metadata": {
        "id": "NGPW8FQLWgJr"
      }
    },
    {
      "cell_type": "code",
      "source": [
        "model = ...  # Get model (Sequential, Functional Model, or Model subclass) model.save('path/to/location')"
      ],
      "metadata": {
        "id": "uqJspbI8fZKk"
      },
      "execution_count": null,
      "outputs": []
    },
    {
      "cell_type": "code",
      "source": [
        "import numpy as np\n",
        "import tensorflow as tf\n",
        "from tensorflow import keras\n",
        "from sklearn.datasets import load_iris\n",
        "import random\n",
        "random.seed(12345)\n",
        "Ndata = len(iris.data)\n",
        "print(f\"Ndata={Ndata}\")\n",
        "idxr = [k for k in range(Ndata)]\n",
        "print(idxr) #0～149まで順番が正しく出ているかチェック\n",
        "random.shuffle(idxr)\n",
        "print(idxr) #順番が出鱈目になっているかチェック\n",
        "Ndata_train = int(Ndata*0.5)#分割の割合を指定。\n",
        "print(f\"# of training data = {Ndata_train}\")\n",
        "print(f\"# of validation data = {Ndata-Ndata_train}\")\n",
        "train_data = iris.data[idxr[:Ndata_train]]#訓練データ\n",
        "train_labels = iris.target[idxr[:Ndata_train]]#訓練データの教師ラベル\n",
        "\n",
        "val_data = iris.data[idxr[Ndata_train:]]#検証データ\n",
        "val_labels = iris.target[idxr[Ndata_train:]]#検証データの教師ラベル\n",
        "model = keras.Sequential([\n",
        "        keras.layers.Dense(4, activation='relu'),\n",
        "        keras.layers.Dense(10, activation='relu'),\n",
        "        keras.layers.Dense(3, activation='softmax')               \n",
        "])\n",
        "model.compile(optimizer='SGD',\n",
        "        loss = 'sparse_categorical_crossentropy',\n",
        "        metrics = ['accuracy'])#分類の精度を評価\n",
        "training_history = model.fit(train_data,train_labels,\n",
        "        validation_data = (val_data, val_labels),\n",
        "        epochs = 20,\n",
        "        batch_size = Ndata_train//10,\n",
        "        verbose = 1)"
      ],
      "metadata": {
        "colab": {
          "base_uri": "https://localhost:8080/"
        },
        "id": "dCaI0rHgXSGO",
        "outputId": "4d6085aa-7385-482f-a705-a4117705bf23"
      },
      "execution_count": null,
      "outputs": [
        {
          "output_type": "stream",
          "name": "stdout",
          "text": [
            "Ndata=150\n",
            "[0, 1, 2, 3, 4, 5, 6, 7, 8, 9, 10, 11, 12, 13, 14, 15, 16, 17, 18, 19, 20, 21, 22, 23, 24, 25, 26, 27, 28, 29, 30, 31, 32, 33, 34, 35, 36, 37, 38, 39, 40, 41, 42, 43, 44, 45, 46, 47, 48, 49, 50, 51, 52, 53, 54, 55, 56, 57, 58, 59, 60, 61, 62, 63, 64, 65, 66, 67, 68, 69, 70, 71, 72, 73, 74, 75, 76, 77, 78, 79, 80, 81, 82, 83, 84, 85, 86, 87, 88, 89, 90, 91, 92, 93, 94, 95, 96, 97, 98, 99, 100, 101, 102, 103, 104, 105, 106, 107, 108, 109, 110, 111, 112, 113, 114, 115, 116, 117, 118, 119, 120, 121, 122, 123, 124, 125, 126, 127, 128, 129, 130, 131, 132, 133, 134, 135, 136, 137, 138, 139, 140, 141, 142, 143, 144, 145, 146, 147, 148, 149]\n",
            "[109, 78, 108, 60, 93, 46, 14, 59, 118, 8, 18, 96, 77, 62, 104, 25, 99, 133, 130, 82, 80, 148, 17, 4, 34, 101, 33, 81, 126, 61, 28, 89, 132, 79, 9, 68, 64, 54, 149, 35, 26, 136, 70, 140, 40, 57, 120, 39, 30, 119, 139, 113, 102, 103, 86, 45, 72, 114, 50, 11, 122, 51, 24, 10, 56, 7, 6, 117, 124, 145, 112, 121, 144, 137, 91, 128, 1, 38, 21, 92, 16, 138, 55, 75, 32, 100, 85, 71, 27, 63, 15, 97, 5, 131, 135, 147, 67, 29, 127, 146, 134, 73, 87, 13, 116, 83, 12, 36, 22, 74, 98, 20, 143, 84, 115, 0, 53, 141, 88, 65, 123, 125, 58, 3, 142, 43, 107, 48, 19, 52, 37, 42, 129, 105, 23, 90, 47, 44, 66, 110, 31, 95, 41, 111, 69, 49, 94, 76, 2, 106]\n",
            "# of training data = 75\n",
            "# of validation data = 75\n",
            "Epoch 1/20\n",
            "11/11 [==============================] - 1s 22ms/step - loss: 1.2199 - accuracy: 0.3733 - val_loss: 1.2200 - val_accuracy: 0.2933\n",
            "Epoch 2/20\n",
            "11/11 [==============================] - 0s 4ms/step - loss: 1.1480 - accuracy: 0.3600 - val_loss: 1.1390 - val_accuracy: 0.3200\n",
            "Epoch 3/20\n",
            "11/11 [==============================] - 0s 5ms/step - loss: 1.1425 - accuracy: 0.3067 - val_loss: 1.1009 - val_accuracy: 0.2933\n",
            "Epoch 4/20\n",
            "11/11 [==============================] - 0s 4ms/step - loss: 1.0851 - accuracy: 0.3867 - val_loss: 1.0888 - val_accuracy: 0.2933\n",
            "Epoch 5/20\n",
            "11/11 [==============================] - 0s 4ms/step - loss: 1.0679 - accuracy: 0.4000 - val_loss: 1.0517 - val_accuracy: 0.3733\n",
            "Epoch 6/20\n",
            "11/11 [==============================] - 0s 5ms/step - loss: 1.0427 - accuracy: 0.3867 - val_loss: 1.0200 - val_accuracy: 0.3733\n",
            "Epoch 7/20\n",
            "11/11 [==============================] - 0s 4ms/step - loss: 0.9980 - accuracy: 0.4000 - val_loss: 0.9903 - val_accuracy: 0.3333\n",
            "Epoch 8/20\n",
            "11/11 [==============================] - 0s 5ms/step - loss: 0.9717 - accuracy: 0.4267 - val_loss: 0.9724 - val_accuracy: 0.4933\n",
            "Epoch 9/20\n",
            "11/11 [==============================] - 0s 5ms/step - loss: 0.9696 - accuracy: 0.4533 - val_loss: 0.9351 - val_accuracy: 0.4800\n",
            "Epoch 10/20\n",
            "11/11 [==============================] - 0s 4ms/step - loss: 0.9118 - accuracy: 0.4800 - val_loss: 0.9776 - val_accuracy: 0.6533\n",
            "Epoch 11/20\n",
            "11/11 [==============================] - 0s 4ms/step - loss: 0.9100 - accuracy: 0.5467 - val_loss: 0.8821 - val_accuracy: 0.7333\n",
            "Epoch 12/20\n",
            "11/11 [==============================] - 0s 6ms/step - loss: 0.8727 - accuracy: 0.6800 - val_loss: 0.8441 - val_accuracy: 0.6933\n",
            "Epoch 13/20\n",
            "11/11 [==============================] - 0s 4ms/step - loss: 0.8446 - accuracy: 0.6133 - val_loss: 0.8108 - val_accuracy: 0.6933\n",
            "Epoch 14/20\n",
            "11/11 [==============================] - 0s 4ms/step - loss: 0.8026 - accuracy: 0.6667 - val_loss: 0.7985 - val_accuracy: 0.6667\n",
            "Epoch 15/20\n",
            "11/11 [==============================] - 0s 5ms/step - loss: 0.7809 - accuracy: 0.7467 - val_loss: 0.7365 - val_accuracy: 0.8667\n",
            "Epoch 16/20\n",
            "11/11 [==============================] - 0s 6ms/step - loss: 0.7194 - accuracy: 0.8000 - val_loss: 0.7020 - val_accuracy: 0.7067\n",
            "Epoch 17/20\n",
            "11/11 [==============================] - 0s 4ms/step - loss: 0.6998 - accuracy: 0.7600 - val_loss: 0.7186 - val_accuracy: 0.6667\n",
            "Epoch 18/20\n",
            "11/11 [==============================] - 0s 6ms/step - loss: 0.6867 - accuracy: 0.7467 - val_loss: 0.6291 - val_accuracy: 0.6800\n",
            "Epoch 19/20\n",
            "11/11 [==============================] - 0s 5ms/step - loss: 0.6336 - accuracy: 0.7733 - val_loss: 0.5913 - val_accuracy: 0.7867\n",
            "Epoch 20/20\n",
            "11/11 [==============================] - 0s 5ms/step - loss: 0.5941 - accuracy: 0.8267 - val_loss: 0.5669 - val_accuracy: 0.7467\n"
          ]
        }
      ]
    },
    {
      "cell_type": "markdown",
      "source": [
        "結果を評価していく。"
      ],
      "metadata": {
        "id": "R83ol-adgBUL"
      }
    },
    {
      "cell_type": "code",
      "source": [
        "import matplotlib.pyplot as plt\n",
        "y = training_history.history['loss']\n",
        "x = range(len(y))\n",
        "plt.semilogy(x,y,label = \"loss for training\")\n",
        "#\n",
        "y = training_history.history['val_loss']\n",
        "x = range(len(y))\n",
        "plt.semilogy(x,y,label = \"loss for validation\",alpha = 0.5)\n",
        "#\n",
        "plt.legend()\n",
        "plt.xlabel(\"Steps\")\n",
        "plt.show()\n",
        "#----\n",
        "y = training_history.history['accuracy']\n",
        "x = range(len(y))\n",
        "plt.plot(x,y,label = \"accuracy for training\")\n",
        "y = training_history.history['val_accuracy']\n",
        "x = range(len(y))\n",
        "plt.plot(x,y,label = \"accuracy for validation\")\n",
        "plt.legend()\n",
        "plt.xlabel(\"Steps\")\n",
        "plt.ylim(0,1.1)\n",
        "plt.show()"
      ],
      "metadata": {
        "colab": {
          "base_uri": "https://localhost:8080/",
          "height": 541
        },
        "id": "N-oSqMRwgEzJ",
        "outputId": "61ab9ea0-f7f5-4975-8a78-41cd750764f4"
      },
      "execution_count": null,
      "outputs": [
        {
          "output_type": "display_data",
          "data": {
            "image/png": "[encoded data removed]",
            "text/plain": [
              "<Figure size 432x288 with 1 Axes>"
            ]
          },
          "metadata": {
            "needs_background": "light"
          }
        },
        {
          "output_type": "display_data",
          "data": {
            "image/png": "[encoded data removed]",
            "text/plain": [
              "<Figure size 432x288 with 1 Axes>"
            ]
          },
          "metadata": {
            "needs_background": "light"
          }
        }
      ]
    }
  ]
}
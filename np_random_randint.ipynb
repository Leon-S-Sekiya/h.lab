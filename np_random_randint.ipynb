{
  "nbformat": 4,
  "nbformat_minor": 0,
  "metadata": {
    "colab": {
      "name": "np.random.randint.ipynb",
      "provenance": [],
      "collapsed_sections": [],
      "toc_visible": true,
      "authorship_tag": "ABX9TyOeJua9tNCBrOUkgEp9JIHX",
      "include_colab_link": true
    },
    "kernelspec": {
      "name": "python3",
      "display_name": "Python 3"
    },
    "language_info": {
      "name": "python"
    }
  },
  "cells": [
    {
      "cell_type": "markdown",
      "metadata": {
        "id": "view-in-github",
        "colab_type": "text"
      },
      "source": [
        "<a href=\"https://colab.research.google.com/github/Leon-S-Sekiya/h.lab/blob/main/np_random_randint.ipynb\" target=\"_parent\"><img src=\"https://colab.research.google.com/assets/colab-badge.svg\" alt=\"Open In Colab\"/></a>"
      ]
    },
    {
      "cell_type": "markdown",
      "source": [
        "# 1 randintの使い方"
      ],
      "metadata": {
        "id": "IEGRxEWdRc4a"
      }
    },
    {
      "cell_type": "markdown",
      "source": [
        "np.random.randintは「全ての面で出る確率が等しいサイコロ」を投げたときの動作をする。"
      ],
      "metadata": {
        "id": "mMJZOke1RioS"
      }
    },
    {
      "cell_type": "markdown",
      "source": [
        "ただし、randintで作れるサイコロは6面だけでなく、どんな範囲を指定することも可能である。"
      ],
      "metadata": {
        "id": "nFbRdZJQRzUY"
      }
    },
    {
      "cell_type": "markdown",
      "source": [
        "# 2 基本的な使い方"
      ],
      "metadata": {
        "id": "4cT4BTwUSFEY"
      }
    },
    {
      "cell_type": "markdown",
      "source": [
        "randint関数は第一引数に最小値、第二引数に最大値を指定して使う。\n",
        "\n",
        "第一引数以上、第二引数未満の整数を返す。\n",
        "\n",
        "実際に使ってみます。"
      ],
      "metadata": {
        "id": "Oe6Ci6uNSKYj"
      }
    },
    {
      "cell_type": "code",
      "execution_count": null,
      "metadata": {
        "colab": {
          "base_uri": "https://localhost:8080/"
        },
        "id": "i_WecGxAPrbM",
        "outputId": "8ceadd9b-a730-4c00-83ea-e22085112d84"
      },
      "outputs": [
        {
          "output_type": "execute_result",
          "data": {
            "text/plain": [
              "-4"
            ]
          },
          "metadata": {},
          "execution_count": 30
        }
      ],
      "source": [
        "import numpy as np\n",
        "import matplotlib.pyplot as plt\n",
        " \n",
        "# 1~6の範囲のサイコロ\n",
        "np.random.randint(1,7)\n",
        " \n",
        "# 結果\n",
        "#6\n",
        " \n",
        "# -10~10の範囲のサイコロ\n",
        "np.random.randint(-10,11)\n",
        " \n",
        "# 結果\n",
        "#-9"
      ]
    },
    {
      "cell_type": "markdown",
      "source": [
        "このサンプルでは最初に1<=N<=６で乱数を生成し、次に-10<=N<=10で乱数を生成している。"
      ],
      "metadata": {
        "id": "R_SJg7WnShjf"
      }
    },
    {
      "cell_type": "markdown",
      "source": [
        "# 3 試行回数が複数回の場合"
      ],
      "metadata": {
        "id": "JmP_Q4dBSv8t"
      }
    },
    {
      "cell_type": "markdown",
      "source": [
        "randintを使って生成できるのは「サイコロを一回投げた結果」だけではない。\n",
        "\n",
        "返り値の配列の形状を第三引数として指定できる。"
      ],
      "metadata": {
        "id": "bUcjl6ViS0o_"
      }
    },
    {
      "cell_type": "code",
      "source": [
        "# サイコロを五回投げたときの結果\n",
        "np.random.randint(1,7,5)\n",
        " \n",
        "# 結果\n",
        "#array([2, 1, 6, 2, 6])\n",
        " "
      ],
      "metadata": {
        "colab": {
          "base_uri": "https://localhost:8080/"
        },
        "id": "5PvAw01LTUoJ",
        "outputId": "712e91e9-874b-4f35-8c41-b537e572fc70"
      },
      "execution_count": null,
      "outputs": [
        {
          "output_type": "execute_result",
          "data": {
            "text/plain": [
              "array([5, 3, 2, 5, 2])"
            ]
          },
          "metadata": {},
          "execution_count": 32
        }
      ]
    },
    {
      "cell_type": "code",
      "source": [
        "# もちろん多次元配列を生成することも可能\n",
        "np.random.randint(1,7,(3,4))\n",
        " \n",
        "# 結果\n",
        "#array([[4, 6, 3, 1],\n",
        "#[1, 5, 6, 6],\n",
        "#[3, 3, 4, 4]])"
      ],
      "metadata": {
        "colab": {
          "base_uri": "https://localhost:8080/"
        },
        "id": "YwdrBPyXTJ9P",
        "outputId": "039f3bf4-9708-4a0e-b7cf-c53c7e51f9c6"
      },
      "execution_count": null,
      "outputs": [
        {
          "output_type": "execute_result",
          "data": {
            "text/plain": [
              "array([[3, 4, 5, 2],\n",
              "       [5, 4, 3, 2],\n",
              "       [5, 1, 4, 1]])"
            ]
          },
          "metadata": {},
          "execution_count": 33
        }
      ]
    },
    {
      "cell_type": "markdown",
      "source": [
        "# 4 本当にそれぞれの面の出る確率は等しいのか？"
      ],
      "metadata": {
        "id": "1VS27qQ6Tm_y"
      }
    },
    {
      "cell_type": "markdown",
      "source": [
        "一応確認してみます。\n",
        "\n",
        "1000000回試行した結果をグラフにプロットしていきます。"
      ],
      "metadata": {
        "id": "eKumQjJlTvIG"
      }
    },
    {
      "cell_type": "code",
      "source": [
        "a = np.random.randint(1,7,1000000)\n",
        " \n",
        "tmp=[]\n",
        "for i in range(1,7):\n",
        "    tmp.append(list(a).count(i))\n",
        " \n",
        "plt.bar([1,2,3,4,5,6],tmp)\n"
      ],
      "metadata": {
        "colab": {
          "base_uri": "https://localhost:8080/",
          "height": 282
        },
        "id": "8jNFp5QJT7EV",
        "outputId": "ecb2e075-9117-497e-f3af-ff78dba95fa2"
      },
      "execution_count": null,
      "outputs": [
        {
          "output_type": "execute_result",
          "data": {
            "text/plain": [
              "<BarContainer object of 6 artists>"
            ]
          },
          "metadata": {},
          "execution_count": 34
        },
        {
          "output_type": "display_data",
          "data": {
            "text/plain": [
              "<Figure size 432x288 with 1 Axes>"
            ],
            "image/png": "[encoded data removed]"
          },
          "metadata": {
            "needs_background": "light"
          }
        }
      ]
    },
    {
      "cell_type": "markdown",
      "source": [
        "それぞれの出目はほぼ同じ回数でている。"
      ],
      "metadata": {
        "id": "8AQCyzfLUAXb"
      }
    },
    {
      "cell_type": "markdown",
      "source": [
        "# 5 まとめ"
      ],
      "metadata": {
        "id": "pPP6-FYKUJOE"
      }
    },
    {
      "cell_type": "markdown",
      "source": [
        "np.random.randintを使ったサイコロのような機能の使い方をまとめた。\n",
        "\n",
        "randintをはじめとして、これ以外にも様々な乱数を生成する機能がnp.randomモジュールには収められている。\n",
        "\n",
        "機械学習には、こうした確率的な操作が必要不可欠である。"
      ],
      "metadata": {
        "id": "4jDcFeD7ULl7"
      }
    }
  ]
}
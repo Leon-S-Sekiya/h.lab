{
  "nbformat": 4,
  "nbformat_minor": 0,
  "metadata": {
    "colab": {
      "name": "return.ipynb",
      "provenance": [],
      "collapsed_sections": [],
      "toc_visible": true,
      "authorship_tag": "ABX9TyOE1lI4O+e8XGyiH4HE0Seg",
      "include_colab_link": true
    },
    "kernelspec": {
      "name": "python3",
      "display_name": "Python 3"
    },
    "language_info": {
      "name": "python"
    }
  },
  "cells": [
    {
      "cell_type": "markdown",
      "metadata": {
        "id": "view-in-github",
        "colab_type": "text"
      },
      "source": [
        "<a href=\"https://colab.research.google.com/github/Leon-S-Sekiya/h.lab/blob/main/return.ipynb\" target=\"_parent\"><img src=\"https://colab.research.google.com/assets/colab-badge.svg\" alt=\"Open In Colab\"/></a>"
      ]
    },
    {
      "cell_type": "markdown",
      "source": [
        "# 1 returnとは"
      ],
      "metadata": {
        "id": "kRB6f8eFPvoV"
      }
    },
    {
      "cell_type": "markdown",
      "source": [
        "pythonでは処理をまとめた関数を定義できる。\n",
        "\n",
        "関数の中でreturn文を使える。\n",
        "\n",
        "return文に処理が到達すると、その関数の実行は終わり、呼び出し元に制御が戻る。\n",
        "\n",
        "また、return文でデータを指定していると、呼び出し元にそのデータを返す。\n",
        "\n",
        "通常、何らかの処理を関数にまとめるので、関数の実行結果を呼び出し元に通知するために、return文を用いる。"
      ],
      "metadata": {
        "id": "cVACvYRsP0oT"
      }
    },
    {
      "cell_type": "markdown",
      "source": [
        "# 2 returnの書き方"
      ],
      "metadata": {
        "id": "0T8NJ-xoQiPX"
      }
    },
    {
      "cell_type": "markdown",
      "source": [
        "**返り値のないパターン**"
      ],
      "metadata": {
        "id": "k8DFdU0MQl9o"
      }
    },
    {
      "cell_type": "code",
      "source": [
        "# 関数の定義\n",
        "def function():\n",
        "    return\n",
        "\n",
        "# 関数の呼び出し\n",
        "function()"
      ],
      "metadata": {
        "id": "jumhaiYhQrlG"
      },
      "execution_count": 1,
      "outputs": []
    },
    {
      "cell_type": "markdown",
      "source": [
        "**返り値のあるパターン**"
      ],
      "metadata": {
        "id": "S8zmTPAiQ4oo"
      }
    },
    {
      "cell_type": "code",
      "source": [
        "# 関数の定義\n",
        "def function():\n",
        "    return 0\n",
        "\n",
        "# 関数の呼び出し\n",
        "x = function()"
      ],
      "metadata": {
        "id": "Gs0JtpriQ8pS"
      },
      "execution_count": 2,
      "outputs": []
    },
    {
      "cell_type": "markdown",
      "source": [
        "# 3 具体例"
      ],
      "metadata": {
        "id": "G8mZ8PJZRJOH"
      }
    },
    {
      "cell_type": "markdown",
      "source": [
        "**返り値のないパターン**"
      ],
      "metadata": {
        "id": "KWF2js4sRMKU"
      }
    },
    {
      "cell_type": "code",
      "source": [
        "def say_hello(name):\n",
        "    print('こんにちは', name)\n",
        "    return\n",
        "    print('こんにちは', name)\n",
        "\n",
        "say_hello('オブスキュラス')"
      ],
      "metadata": {
        "colab": {
          "base_uri": "https://localhost:8080/"
        },
        "id": "Ltri0MGjRPMJ",
        "outputId": "43c46df0-f73c-41d0-c1e9-31f331f46e82"
      },
      "execution_count": 4,
      "outputs": [
        {
          "output_type": "stream",
          "name": "stdout",
          "text": [
            "こんにちは オブスキュラス\n"
          ]
        }
      ]
    },
    {
      "cell_type": "markdown",
      "source": [
        "1行目でsay_helloを定義。\n",
        "\n",
        "2行目で「こんにちは～」と表示。\n",
        "\n",
        "3行目でreturnし、呼び出し元に制御を戻す。\n",
        "従って、4行目のコードは実行されない。"
      ],
      "metadata": {
        "id": "b_bSLXOtRyVE"
      }
    },
    {
      "cell_type": "markdown",
      "source": [
        "**返り値のあるパターン**"
      ],
      "metadata": {
        "id": "PqmTueKBSHEQ"
      }
    },
    {
      "cell_type": "code",
      "source": [
        "def add(x, y):\n",
        "    return x + y\n",
        "\n",
        "z = add(1, 2)\n",
        "print(z)\n",
        "\n",
        "def add_mul(x, y):\n",
        "    return (x + y, x * y)\n",
        "\n",
        "z0, z1 = add_mul(1, 2)\n",
        "print(z0, z1)"
      ],
      "metadata": {
        "colab": {
          "base_uri": "https://localhost:8080/"
        },
        "id": "jPE3gXmdSKQ2",
        "outputId": "992dad09-9791-4eca-8568-38131b8f2bad"
      },
      "execution_count": 5,
      "outputs": [
        {
          "output_type": "stream",
          "name": "stdout",
          "text": [
            "3\n",
            "3 2\n"
          ]
        }
      ]
    },
    {
      "cell_type": "markdown",
      "source": [
        "1行目でadd関数を定義。この関数はxとyの2つの引数をとる。\n",
        "\n",
        "2行目でreturn文を用い、xとyの加算結果を返す。\n",
        "\n",
        "4行目でadd関数を呼び出す。引数で指定した1と2を加算した結果がreturnされるため、zは3になる。\n",
        "\n",
        "7行目でadd_mul関数を定義する。\n",
        "\n",
        "8行目のように複数のデータを返すこともできる。\n",
        "\n",
        "10行目でadd_mul関数を呼び出す。\n",
        "1と2の加算、乗算結果がreturnされるので、z0は3、z1は2になる。"
      ],
      "metadata": {
        "id": "p9R8JkHZVVdL"
      }
    }
  ]
}
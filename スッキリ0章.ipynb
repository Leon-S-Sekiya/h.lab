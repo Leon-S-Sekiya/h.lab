{
  "nbformat": 4,
  "nbformat_minor": 0,
  "metadata": {
    "colab": {
      "name": "スッキリ0章.ipynb",
      "provenance": [],
      "collapsed_sections": [],
      "authorship_tag": "ABX9TyPqM8zHuCqsb+Y3Tdkf1Rd6",
      "include_colab_link": true
    },
    "kernelspec": {
      "name": "python3",
      "display_name": "Python 3"
    },
    "language_info": {
      "name": "python"
    }
  },
  "cells": [
    {
      "cell_type": "markdown",
      "metadata": {
        "id": "view-in-github",
        "colab_type": "text"
      },
      "source": [
        "<a href=\"https://colab.research.google.com/github/Leon-S-Sekiya/h.lab/blob/main/%E3%82%B9%E3%83%83%E3%82%AD%E3%83%AA0%E7%AB%A0.ipynb\" target=\"_parent\"><img src=\"https://colab.research.google.com/assets/colab-badge.svg\" alt=\"Open In Colab\"/></a>"
      ]
    },
    {
      "cell_type": "markdown",
      "source": [
        "\n",
        "BMIを算出するプログラムを作ったよ！\n",
        "\n"
      ],
      "metadata": {
        "id": "bOcNq_bTEhIu"
      }
    },
    {
      "cell_type": "code",
      "execution_count": null,
      "metadata": {
        "cellView": "form",
        "id": "sbCVzVp2Ee_P"
      },
      "outputs": [],
      "source": [
        "#@title \n",
        "height = int(input('身長(cm)ヲ入力セヨ>>'))\n",
        "weight = int(input('体重(kg)ヲ入力セヨ>>'))\n",
        "\n",
        "height = height / 100 #メートルに変換\n",
        "BMI = weight / (height ** 2)\n",
        "\n",
        "print('貴様ノBMIハ{}'.format(BMI))"
      ]
    },
    {
      "cell_type": "markdown",
      "source": [
        "生徒の点数管理をするプログラムを作ったよ！"
      ],
      "metadata": {
        "id": "x0LWdZp4F5m5"
      }
    },
    {
      "cell_type": "code",
      "source": [
        "#@title \n",
        "#3教科の試験得点を管理\n",
        "scores = []\n",
        "#国語の点数を入力させる\n",
        "japanese = int(input('国語の試験点数>>'))\n",
        "#国語の点数をリストに追加\n",
        "scores.append(japanese)\n",
        "#数学の点数を入力させる\n",
        "math = int(input('数学の試験得点>>'))\n",
        "#数学の得点をリストに追加\n",
        "scores.append(math)\n",
        "#英語の点数を入力させる\n",
        "english = int(input('英語の試験点数>>'))\n",
        "#英語の得点をリストに追加\n",
        "scores.append(english)\n",
        "#リストの一覧を表示\n",
        "print(scores)\n",
        "#リストの合計値を計算して表示\n",
        "total = sum(scores)\n",
        "print('合計得点:{}点'.format(total))"
      ],
      "metadata": {
        "colab": {
          "base_uri": "https://localhost:8080/"
        },
        "cellView": "form",
        "id": "VxCalGaCGSMl",
        "outputId": "8e79491d-f222-45c4-a2f1-8e2d7cb256a7"
      },
      "execution_count": null,
      "outputs": [
        {
          "output_type": "stream",
          "name": "stdout",
          "text": [
            "国語の試験点数>>75\n",
            "数学の試験得点>>60\n",
            "英語の試験点数>>98\n",
            "[75, 60, 98]\n",
            "合計得点:233点\n"
          ]
        }
      ]
    },
    {
      "cell_type": "markdown",
      "source": [
        "偶数か奇数か判定するよ！"
      ],
      "metadata": {
        "id": "iuA2iG3EJWDc"
      }
    },
    {
      "cell_type": "code",
      "source": [
        "#@title \n",
        "number = int(input('整数を入力してくださりやがれ'))\n",
        "\n",
        "if number % 2 == 0:\n",
        "    print('偶数')\n",
        "else:\n",
        "    print('奇数')"
      ],
      "metadata": {
        "colab": {
          "base_uri": "https://localhost:8080/"
        },
        "cellView": "form",
        "id": "iA0s0kLpJbZD",
        "outputId": "1507e195-85f5-4734-dbcf-1b816d2a9772"
      },
      "execution_count": null,
      "outputs": [
        {
          "output_type": "stream",
          "name": "stdout",
          "text": [
            "整数を入力してくださりやがれ88\n",
            "偶数\n"
          ]
        }
      ]
    },
    {
      "cell_type": "markdown",
      "source": [
        "プログラムと会話してみよう！"
      ],
      "metadata": {
        "id": "X-sadmNmPNrg"
      }
    },
    {
      "cell_type": "code",
      "source": [
        "#@title \n",
        "data = input('please input data>>')\n",
        "\n",
        "if data == 'こんにちは':\n",
        "    print('ようこそ!')\n",
        "elif data =='景気は？':\n",
        "    print('クソ食らえだ!')\n",
        "elif data =='さようなら':\n",
        "    print('ごきげんよう')\n",
        "elif data =='ことみ':\n",
        "    print('かわいい！')\n",
        "else:\n",
        "    print('すみません、よくわかりません')"
      ],
      "metadata": {
        "cellView": "form",
        "id": "73v34BIxP-DZ"
      },
      "execution_count": null,
      "outputs": []
    },
    {
      "cell_type": "markdown",
      "source": [
        "カウントダウンプログラム"
      ],
      "metadata": {
        "id": "JX1tTZJeS0xF"
      }
    },
    {
      "cell_type": "code",
      "source": [
        "#@title\n",
        "for i in range(10):\n",
        "    print('{},'.format(10-i),end = '')\n",
        "print('Lift off!!')"
      ],
      "metadata": {
        "colab": {
          "base_uri": "https://localhost:8080/"
        },
        "cellView": "form",
        "id": "7ZanXf3cP2SB",
        "outputId": "65594c20-7567-4fad-c5bb-ce7c5ba28653"
      },
      "execution_count": 2,
      "outputs": [
        {
          "output_type": "stream",
          "name": "stdout",
          "text": [
            "10,9,8,7,6,5,4,3,2,1,Lift off!!\n"
          ]
        }
      ]
    },
    {
      "cell_type": "markdown",
      "source": [
        "10人の試験得点から平均を出そう!"
      ],
      "metadata": {
        "id": "BXjif5k4QSEE"
      }
    },
    {
      "cell_type": "code",
      "source": [
        "#@title\n",
        "#手順1\n",
        "scores = []\n",
        "#手順2\n",
        "for i in range(10):\n",
        "    score = int(input('{}人目の試験得点>>'.format(i + 1)))\n",
        "    scores.append(score)\n",
        "\n",
        "#手順3\n",
        "final_scores = []\n",
        "for score in scores:\n",
        "    tmp = score * 0.8 + 20\n",
        "    final_scores.append(tmp)\n",
        "\n",
        "#手順4\n",
        "avg = sum(final_scores) / len(final_scores)\n",
        "print('平均点は{}点'.format(avg))"
      ],
      "metadata": {
        "colab": {
          "base_uri": "https://localhost:8080/"
        },
        "cellView": "form",
        "id": "4qOWAf1AQTK-",
        "outputId": "822989da-1e0b-4d0e-b74a-caea425de81d"
      },
      "execution_count": 3,
      "outputs": [
        {
          "output_type": "stream",
          "name": "stdout",
          "text": [
            "1人目の試験得点>>70\n",
            "2人目の試験得点>>80\n",
            "3人目の試験得点>>90\n",
            "4人目の試験得点>>50\n",
            "5人目の試験得点>>40\n",
            "6人目の試験得点>>50\n",
            "7人目の試験得点>>60\n",
            "8人目の試験得点>>60\n",
            "9人目の試験得点>>80\n",
            "10人目の試験得点>>30\n",
            "平均点は68.8点\n"
          ]
        }
      ]
    },
    {
      "cell_type": "markdown",
      "source": [
        "うるう年関数"
      ],
      "metadata": {
        "id": "L88xcMd_SPD2"
      }
    },
    {
      "cell_type": "code",
      "source": [
        "#@title \n",
        "def uruu(year):\n",
        "    result = None\n",
        "    if year % 400 == 0:\n",
        "        result = True\n",
        "    elif year % 100 == 0:\n",
        "        result = False\n",
        "    elif year % 4 == 0:\n",
        "        result = True\n",
        "    else:\n",
        "        result = False\n",
        "\n",
        "    return result"
      ],
      "metadata": {
        "cellView": "form",
        "id": "nXezmTF9S5T4"
      },
      "execution_count": 7,
      "outputs": []
    }
  ]
}
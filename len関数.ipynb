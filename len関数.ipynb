{
  "nbformat": 4,
  "nbformat_minor": 0,
  "metadata": {
    "colab": {
      "name": "len関数.ipynb",
      "provenance": [],
      "collapsed_sections": [],
      "toc_visible": true,
      "authorship_tag": "ABX9TyNdxJ7hW9tz5K6KO/9g8/mB",
      "include_colab_link": true
    },
    "kernelspec": {
      "name": "python3",
      "display_name": "Python 3"
    },
    "language_info": {
      "name": "python"
    }
  },
  "cells": [
    {
      "cell_type": "markdown",
      "metadata": {
        "id": "view-in-github",
        "colab_type": "text"
      },
      "source": [
        "<a href=\"https://colab.research.google.com/github/Leon-S-Sekiya/h.lab/blob/main/len%E9%96%A2%E6%95%B0.ipynb\" target=\"_parent\"><img src=\"https://colab.research.google.com/assets/colab-badge.svg\" alt=\"Open In Colab\"/></a>"
      ]
    },
    {
      "cell_type": "markdown",
      "source": [
        "# 1 len関数とは"
      ],
      "metadata": {
        "id": "df7w9a8qaFnd"
      }
    },
    {
      "cell_type": "markdown",
      "source": [
        "len関数とはリストをはじめコンテナ型オブジェクトの要素数の取得や文字列の文字数を取得することができる関数である。"
      ],
      "metadata": {
        "id": "tDbcU3MDaLXa"
      }
    },
    {
      "cell_type": "markdown",
      "source": [
        "簡単に言うと、文字列から文字数を取得したり、リストにデータが何個存在しているか等を取得することができる。"
      ],
      "metadata": {
        "id": "8jseUqgBac-0"
      }
    },
    {
      "cell_type": "markdown",
      "source": [
        "# 2 len関数の基本的な使い方"
      ],
      "metadata": {
        "id": "nBLPI4IMavGP"
      }
    },
    {
      "cell_type": "markdown",
      "source": [
        "len関数の基本的な使い方は下記文法である。"
      ],
      "metadata": {
        "id": "1oLzJvgba1mC"
      }
    },
    {
      "cell_type": "code",
      "source": [
        "len(引数)"
      ],
      "metadata": {
        "id": "dqN4KO4Ma9KQ"
      },
      "execution_count": null,
      "outputs": []
    },
    {
      "cell_type": "markdown",
      "source": [
        "引数には文字列やリストが入る。"
      ],
      "metadata": {
        "id": "SneOG2lQa_-3"
      }
    },
    {
      "cell_type": "markdown",
      "source": [
        "引数に文字列が指定されている場合は関数の返り値は文字数(int)、リスト等のコンテナ型オブジェクトの場合は要素数(int)になる。"
      ],
      "metadata": {
        "id": "LvxA3ibJbE3_"
      }
    },
    {
      "cell_type": "markdown",
      "source": [
        "# 3 実践"
      ],
      "metadata": {
        "id": "XTiVGfYBbbBh"
      }
    },
    {
      "cell_type": "markdown",
      "source": [
        "サンプルコードを参考に文字列とリストの要素数を取得する方法について実際に書いてみる。"
      ],
      "metadata": {
        "id": "MW6vThVlbfH4"
      }
    },
    {
      "cell_type": "code",
      "source": [
        "sample = \"animal\"\n",
        "print(\"文字数取得結果\")\n",
        "print(len(sample))"
      ],
      "metadata": {
        "colab": {
          "base_uri": "https://localhost:8080/"
        },
        "id": "nsOwiKO8brGl",
        "outputId": "a3d0041e-7f7b-410f-ea80-41de14ef0398"
      },
      "execution_count": null,
      "outputs": [
        {
          "output_type": "stream",
          "name": "stdout",
          "text": [
            "文字数取得結果\n",
            "6\n"
          ]
        }
      ]
    },
    {
      "cell_type": "markdown",
      "source": [
        "コード1行目では、変数\"sample\"に\"animal\"という6文字の文字列を設定している。\n",
        "\n",
        "コード3行目では、len関数を使って変数\"sample\"の文字列を取得している。\n",
        "\n",
        "実行結果では、文字列が6という数字で出力していることが確認できる。"
      ],
      "metadata": {
        "id": "U1ERl8NGb5L4"
      }
    },
    {
      "cell_type": "markdown",
      "source": [
        "続いて、リストの要素数を取得する。"
      ],
      "metadata": {
        "id": "4CNj4hpIcblj"
      }
    },
    {
      "cell_type": "code",
      "source": [
        "list_sample = [\"cat\", \"dog\", \"horse\"]\n",
        "print(\"要素数取得結果\")\n",
        "print(len(list_sample))"
      ],
      "metadata": {
        "colab": {
          "base_uri": "https://localhost:8080/"
        },
        "id": "gyPaEIdAcfta",
        "outputId": "06d7d9f0-7778-4190-ddeb-4a4b949ec829"
      },
      "execution_count": null,
      "outputs": [
        {
          "output_type": "stream",
          "name": "stdout",
          "text": [
            "要素数取得結果\n",
            "3\n"
          ]
        }
      ]
    },
    {
      "cell_type": "markdown",
      "source": [
        "コード1行目では、変数\"list_sample\"に[\"cat\",\"dog\",\"horse\"]という3つの要素をリストとして設定している。\n",
        "\n",
        "コード3行目では、len関数を使って変数\"list_sample\"の要素数を取得している。\n",
        "(この場合、len関数の引数がリストになっているので返されるデータは要素数になる。)\n",
        "\n",
        "実行結果では、要素数が3という数字で出力されていることが確認できる。"
      ],
      "metadata": {
        "id": "hBaj0wUzcwNK"
      }
    },
    {
      "cell_type": "markdown",
      "source": [
        "# 4 まとめ"
      ],
      "metadata": {
        "id": "xfscyzd_dior"
      }
    },
    {
      "cell_type": "markdown",
      "source": [
        "今回は、Pythonのlen関数の使い方についてまとめた。\n",
        "\n",
        "このlen関数は、リストデータ等に要素数を取得するためにこれから出番が多い。"
      ],
      "metadata": {
        "id": "gdwZOheldlaO"
      }
    }
  ]
}